{
 "cells": [
  {
   "cell_type": "markdown",
   "id": "5bd92983",
   "metadata": {},
   "source": [
    "TASK 3 \n",
    "\n",
    "The price of a car depends on a lot of factors like the goodwill of the brand of the car,\n",
    "features of the car, horsepower and the mileage it gives and many more. Car price\n",
    "prediction is one of the major research areas in machine learning. So if you want to learn\n",
    "how to train a car price prediction model then this project is for you.\n",
    "\n",
    "\n",
    "\n",
    "\n"
   ]
  },
  {
   "cell_type": "markdown",
   "id": "35572918",
   "metadata": {},
   "source": [
    "https://www.kaggle.com/datasets/vijayaadithyanvg/car-price-predictionused-cars"
   ]
  },
  {
   "cell_type": "markdown",
   "id": "69baf69f",
   "metadata": {},
   "source": [
    "### Problem statement\n",
    "\n",
    "predict the selling price of used cars."
   ]
  },
  {
   "cell_type": "code",
   "execution_count": 1,
   "id": "a85bdac8",
   "metadata": {},
   "outputs": [],
   "source": [
    "# import the libraries \n",
    "import numpy as np\n",
    "import pandas as pd \n",
    "import matplotlib.pyplot as plt\n",
    "import seaborn as sns\n",
    "import warnings\n",
    "warnings.filterwarnings('ignore')"
   ]
  },
  {
   "cell_type": "code",
   "execution_count": 113,
   "id": "0c919b98",
   "metadata": {},
   "outputs": [
    {
     "data": {
      "text/html": [
       "<div>\n",
       "<style scoped>\n",
       "    .dataframe tbody tr th:only-of-type {\n",
       "        vertical-align: middle;\n",
       "    }\n",
       "\n",
       "    .dataframe tbody tr th {\n",
       "        vertical-align: top;\n",
       "    }\n",
       "\n",
       "    .dataframe thead th {\n",
       "        text-align: right;\n",
       "    }\n",
       "</style>\n",
       "<table border=\"1\" class=\"dataframe\">\n",
       "  <thead>\n",
       "    <tr style=\"text-align: right;\">\n",
       "      <th></th>\n",
       "      <th>Car_Name</th>\n",
       "      <th>Year</th>\n",
       "      <th>Selling_Price</th>\n",
       "      <th>Present_Price</th>\n",
       "      <th>Driven_kms</th>\n",
       "      <th>Fuel_Type</th>\n",
       "      <th>Selling_type</th>\n",
       "      <th>Transmission</th>\n",
       "      <th>Owner</th>\n",
       "    </tr>\n",
       "  </thead>\n",
       "  <tbody>\n",
       "    <tr>\n",
       "      <th>0</th>\n",
       "      <td>ritz</td>\n",
       "      <td>2014</td>\n",
       "      <td>3.35</td>\n",
       "      <td>5.59</td>\n",
       "      <td>27000</td>\n",
       "      <td>Petrol</td>\n",
       "      <td>Dealer</td>\n",
       "      <td>Manual</td>\n",
       "      <td>0</td>\n",
       "    </tr>\n",
       "    <tr>\n",
       "      <th>1</th>\n",
       "      <td>sx4</td>\n",
       "      <td>2013</td>\n",
       "      <td>4.75</td>\n",
       "      <td>9.54</td>\n",
       "      <td>43000</td>\n",
       "      <td>Diesel</td>\n",
       "      <td>Dealer</td>\n",
       "      <td>Manual</td>\n",
       "      <td>0</td>\n",
       "    </tr>\n",
       "  </tbody>\n",
       "</table>\n",
       "</div>"
      ],
      "text/plain": [
       "  Car_Name  Year  Selling_Price  Present_Price  Driven_kms Fuel_Type  \\\n",
       "0     ritz  2014           3.35           5.59       27000    Petrol   \n",
       "1      sx4  2013           4.75           9.54       43000    Diesel   \n",
       "\n",
       "  Selling_type Transmission  Owner  \n",
       "0       Dealer       Manual      0  \n",
       "1       Dealer       Manual      0  "
      ]
     },
     "execution_count": 113,
     "metadata": {},
     "output_type": "execute_result"
    }
   ],
   "source": [
    "#load and read the head and tail \n",
    "data=pd.read_csv(r\"car data.csv\")\n",
    "data.head(2)"
   ]
  },
  {
   "cell_type": "code",
   "execution_count": 3,
   "id": "3ec2d8c5",
   "metadata": {},
   "outputs": [
    {
     "data": {
      "text/html": [
       "<div>\n",
       "<style scoped>\n",
       "    .dataframe tbody tr th:only-of-type {\n",
       "        vertical-align: middle;\n",
       "    }\n",
       "\n",
       "    .dataframe tbody tr th {\n",
       "        vertical-align: top;\n",
       "    }\n",
       "\n",
       "    .dataframe thead th {\n",
       "        text-align: right;\n",
       "    }\n",
       "</style>\n",
       "<table border=\"1\" class=\"dataframe\">\n",
       "  <thead>\n",
       "    <tr style=\"text-align: right;\">\n",
       "      <th></th>\n",
       "      <th>Car_Name</th>\n",
       "      <th>Year</th>\n",
       "      <th>Selling_Price</th>\n",
       "      <th>Present_Price</th>\n",
       "      <th>Driven_kms</th>\n",
       "      <th>Fuel_Type</th>\n",
       "      <th>Selling_type</th>\n",
       "      <th>Transmission</th>\n",
       "      <th>Owner</th>\n",
       "    </tr>\n",
       "  </thead>\n",
       "  <tbody>\n",
       "    <tr>\n",
       "      <th>299</th>\n",
       "      <td>city</td>\n",
       "      <td>2017</td>\n",
       "      <td>11.5</td>\n",
       "      <td>12.5</td>\n",
       "      <td>9000</td>\n",
       "      <td>Diesel</td>\n",
       "      <td>Dealer</td>\n",
       "      <td>Manual</td>\n",
       "      <td>0</td>\n",
       "    </tr>\n",
       "    <tr>\n",
       "      <th>300</th>\n",
       "      <td>brio</td>\n",
       "      <td>2016</td>\n",
       "      <td>5.3</td>\n",
       "      <td>5.9</td>\n",
       "      <td>5464</td>\n",
       "      <td>Petrol</td>\n",
       "      <td>Dealer</td>\n",
       "      <td>Manual</td>\n",
       "      <td>0</td>\n",
       "    </tr>\n",
       "  </tbody>\n",
       "</table>\n",
       "</div>"
      ],
      "text/plain": [
       "    Car_Name  Year  Selling_Price  Present_Price  Driven_kms Fuel_Type  \\\n",
       "299     city  2017           11.5           12.5        9000    Diesel   \n",
       "300     brio  2016            5.3            5.9        5464    Petrol   \n",
       "\n",
       "    Selling_type Transmission  Owner  \n",
       "299       Dealer       Manual      0  \n",
       "300       Dealer       Manual      0  "
      ]
     },
     "execution_count": 3,
     "metadata": {},
     "output_type": "execute_result"
    }
   ],
   "source": [
    "data.tail(2)"
   ]
  },
  {
   "cell_type": "code",
   "execution_count": 114,
   "id": "b13117ba",
   "metadata": {},
   "outputs": [
    {
     "data": {
      "text/plain": [
       "(301, 9)"
      ]
     },
     "execution_count": 114,
     "metadata": {},
     "output_type": "execute_result"
    }
   ],
   "source": [
    "# check the shape \n",
    "data.shape"
   ]
  },
  {
   "cell_type": "code",
   "execution_count": 5,
   "id": "a4e999bd",
   "metadata": {},
   "outputs": [],
   "source": [
    "## The ratio of the data shape seems good. "
   ]
  },
  {
   "cell_type": "code",
   "execution_count": 115,
   "id": "1bdf0835",
   "metadata": {
    "scrolled": true
   },
   "outputs": [
    {
     "name": "stdout",
     "output_type": "stream",
     "text": [
      "<class 'pandas.core.frame.DataFrame'>\n",
      "RangeIndex: 301 entries, 0 to 300\n",
      "Data columns (total 9 columns):\n",
      " #   Column         Non-Null Count  Dtype  \n",
      "---  ------         --------------  -----  \n",
      " 0   Car_Name       301 non-null    object \n",
      " 1   Year           301 non-null    int64  \n",
      " 2   Selling_Price  301 non-null    float64\n",
      " 3   Present_Price  301 non-null    float64\n",
      " 4   Driven_kms     301 non-null    int64  \n",
      " 5   Fuel_Type      301 non-null    object \n",
      " 6   Selling_type   301 non-null    object \n",
      " 7   Transmission   301 non-null    object \n",
      " 8   Owner          301 non-null    int64  \n",
      "dtypes: float64(2), int64(3), object(4)\n",
      "memory usage: 21.3+ KB\n"
     ]
    }
   ],
   "source": [
    "# get the info about the data \n",
    "data.info()"
   ]
  },
  {
   "cell_type": "markdown",
   "id": "add3a160",
   "metadata": {},
   "source": [
    "From the info we have 9 columns in which four are category. "
   ]
  },
  {
   "cell_type": "code",
   "execution_count": 116,
   "id": "b0200f7d",
   "metadata": {
    "scrolled": true
   },
   "outputs": [
    {
     "data": {
      "text/html": [
       "<div>\n",
       "<style scoped>\n",
       "    .dataframe tbody tr th:only-of-type {\n",
       "        vertical-align: middle;\n",
       "    }\n",
       "\n",
       "    .dataframe tbody tr th {\n",
       "        vertical-align: top;\n",
       "    }\n",
       "\n",
       "    .dataframe thead th {\n",
       "        text-align: right;\n",
       "    }\n",
       "</style>\n",
       "<table border=\"1\" class=\"dataframe\">\n",
       "  <thead>\n",
       "    <tr style=\"text-align: right;\">\n",
       "      <th></th>\n",
       "      <th>Year</th>\n",
       "      <th>Selling_Price</th>\n",
       "      <th>Present_Price</th>\n",
       "      <th>Driven_kms</th>\n",
       "      <th>Owner</th>\n",
       "    </tr>\n",
       "  </thead>\n",
       "  <tbody>\n",
       "    <tr>\n",
       "      <th>count</th>\n",
       "      <td>301.000000</td>\n",
       "      <td>301.000000</td>\n",
       "      <td>301.000000</td>\n",
       "      <td>301.000000</td>\n",
       "      <td>301.000000</td>\n",
       "    </tr>\n",
       "    <tr>\n",
       "      <th>mean</th>\n",
       "      <td>2013.627907</td>\n",
       "      <td>4.661296</td>\n",
       "      <td>7.628472</td>\n",
       "      <td>36947.205980</td>\n",
       "      <td>0.043189</td>\n",
       "    </tr>\n",
       "    <tr>\n",
       "      <th>std</th>\n",
       "      <td>2.891554</td>\n",
       "      <td>5.082812</td>\n",
       "      <td>8.642584</td>\n",
       "      <td>38886.883882</td>\n",
       "      <td>0.247915</td>\n",
       "    </tr>\n",
       "    <tr>\n",
       "      <th>min</th>\n",
       "      <td>2003.000000</td>\n",
       "      <td>0.100000</td>\n",
       "      <td>0.320000</td>\n",
       "      <td>500.000000</td>\n",
       "      <td>0.000000</td>\n",
       "    </tr>\n",
       "    <tr>\n",
       "      <th>25%</th>\n",
       "      <td>2012.000000</td>\n",
       "      <td>0.900000</td>\n",
       "      <td>1.200000</td>\n",
       "      <td>15000.000000</td>\n",
       "      <td>0.000000</td>\n",
       "    </tr>\n",
       "    <tr>\n",
       "      <th>50%</th>\n",
       "      <td>2014.000000</td>\n",
       "      <td>3.600000</td>\n",
       "      <td>6.400000</td>\n",
       "      <td>32000.000000</td>\n",
       "      <td>0.000000</td>\n",
       "    </tr>\n",
       "    <tr>\n",
       "      <th>75%</th>\n",
       "      <td>2016.000000</td>\n",
       "      <td>6.000000</td>\n",
       "      <td>9.900000</td>\n",
       "      <td>48767.000000</td>\n",
       "      <td>0.000000</td>\n",
       "    </tr>\n",
       "    <tr>\n",
       "      <th>max</th>\n",
       "      <td>2018.000000</td>\n",
       "      <td>35.000000</td>\n",
       "      <td>92.600000</td>\n",
       "      <td>500000.000000</td>\n",
       "      <td>3.000000</td>\n",
       "    </tr>\n",
       "  </tbody>\n",
       "</table>\n",
       "</div>"
      ],
      "text/plain": [
       "              Year  Selling_Price  Present_Price     Driven_kms       Owner\n",
       "count   301.000000     301.000000     301.000000     301.000000  301.000000\n",
       "mean   2013.627907       4.661296       7.628472   36947.205980    0.043189\n",
       "std       2.891554       5.082812       8.642584   38886.883882    0.247915\n",
       "min    2003.000000       0.100000       0.320000     500.000000    0.000000\n",
       "25%    2012.000000       0.900000       1.200000   15000.000000    0.000000\n",
       "50%    2014.000000       3.600000       6.400000   32000.000000    0.000000\n",
       "75%    2016.000000       6.000000       9.900000   48767.000000    0.000000\n",
       "max    2018.000000      35.000000      92.600000  500000.000000    3.000000"
      ]
     },
     "execution_count": 116,
     "metadata": {},
     "output_type": "execute_result"
    }
   ],
   "source": [
    "data.describe()"
   ]
  },
  {
   "cell_type": "markdown",
   "id": "6bf8dae7",
   "metadata": {},
   "source": [
    "From the description we can have the following conclusions\n",
    "\n",
    "*  we have data from 2003 to 2018.\n",
    "\n",
    "*  the SElling price may have outliers.\n",
    "\n",
    "*  the present price also may have outliers."
   ]
  },
  {
   "cell_type": "code",
   "execution_count": 117,
   "id": "40427680",
   "metadata": {
    "scrolled": false
   },
   "outputs": [
    {
     "data": {
      "text/html": [
       "<div>\n",
       "<style scoped>\n",
       "    .dataframe tbody tr th:only-of-type {\n",
       "        vertical-align: middle;\n",
       "    }\n",
       "\n",
       "    .dataframe tbody tr th {\n",
       "        vertical-align: top;\n",
       "    }\n",
       "\n",
       "    .dataframe thead th {\n",
       "        text-align: right;\n",
       "    }\n",
       "</style>\n",
       "<table border=\"1\" class=\"dataframe\">\n",
       "  <thead>\n",
       "    <tr style=\"text-align: right;\">\n",
       "      <th></th>\n",
       "      <th>Car_Name</th>\n",
       "      <th>Fuel_Type</th>\n",
       "      <th>Selling_type</th>\n",
       "      <th>Transmission</th>\n",
       "    </tr>\n",
       "  </thead>\n",
       "  <tbody>\n",
       "    <tr>\n",
       "      <th>count</th>\n",
       "      <td>301</td>\n",
       "      <td>301</td>\n",
       "      <td>301</td>\n",
       "      <td>301</td>\n",
       "    </tr>\n",
       "    <tr>\n",
       "      <th>unique</th>\n",
       "      <td>98</td>\n",
       "      <td>3</td>\n",
       "      <td>2</td>\n",
       "      <td>2</td>\n",
       "    </tr>\n",
       "    <tr>\n",
       "      <th>top</th>\n",
       "      <td>city</td>\n",
       "      <td>Petrol</td>\n",
       "      <td>Dealer</td>\n",
       "      <td>Manual</td>\n",
       "    </tr>\n",
       "    <tr>\n",
       "      <th>freq</th>\n",
       "      <td>26</td>\n",
       "      <td>239</td>\n",
       "      <td>195</td>\n",
       "      <td>261</td>\n",
       "    </tr>\n",
       "  </tbody>\n",
       "</table>\n",
       "</div>"
      ],
      "text/plain": [
       "       Car_Name Fuel_Type Selling_type Transmission\n",
       "count       301       301          301          301\n",
       "unique       98         3            2            2\n",
       "top        city    Petrol       Dealer       Manual\n",
       "freq         26       239          195          261"
      ]
     },
     "execution_count": 117,
     "metadata": {},
     "output_type": "execute_result"
    }
   ],
   "source": [
    "data.describe(include=object)"
   ]
  },
  {
   "cell_type": "markdown",
   "id": "4290361a",
   "metadata": {},
   "source": [
    "* There are 98 unique car names. \n",
    "\n",
    "*  the fuel type has three unique values.\n",
    "\n",
    "*  the selling type  and transmission has two unique value. "
   ]
  },
  {
   "cell_type": "code",
   "execution_count": 119,
   "id": "de6cfa34",
   "metadata": {},
   "outputs": [],
   "source": [
    "# copy the data \n",
    "df=data.copy()"
   ]
  },
  {
   "cell_type": "code",
   "execution_count": 11,
   "id": "01f933b0",
   "metadata": {},
   "outputs": [
    {
     "data": {
      "image/png": "[encoded data removed]",
      "text/plain": [
       "<Figure size 640x480 with 1 Axes>"
      ]
     },
     "metadata": {},
     "output_type": "display_data"
    }
   ],
   "source": [
    "# checking for outliers \n",
    "plt.style.use('classic')\n",
    "df.boxplot(color='red')\n",
    "plt.xticks(rotation=90)\n",
    "plt.show()"
   ]
  },
  {
   "cell_type": "markdown",
   "id": "233d789e",
   "metadata": {},
   "source": [
    "### Univariate analysis"
   ]
  },
  {
   "cell_type": "code",
   "execution_count": 12,
   "id": "8385f564",
   "metadata": {},
   "outputs": [
    {
     "data": {
      "text/plain": [
       "Index(['Car_Name', 'Year', 'Selling_Price', 'Present_Price', 'Driven_kms',\n",
       "       'Fuel_Type', 'Selling_type', 'Transmission', 'Owner'],\n",
       "      dtype='object')"
      ]
     },
     "execution_count": 12,
     "metadata": {},
     "output_type": "execute_result"
    }
   ],
   "source": [
    "df.columns"
   ]
  },
  {
   "cell_type": "markdown",
   "id": "881b6754",
   "metadata": {},
   "source": [
    "##### analysing numerical columns 'Selling_Price', 'Present_Price', 'Driven_kms'"
   ]
  },
  {
   "cell_type": "code",
   "execution_count": 27,
   "id": "671ed9cf",
   "metadata": {
    "scrolled": true
   },
   "outputs": [
    {
     "data": {
      "image/png": "[encoded data removed]",
      "text/plain": [
       "<Figure size 1600x320 with 3 Axes>"
      ]
     },
     "metadata": {},
     "output_type": "display_data"
    }
   ],
   "source": [
    "plt.style.use('classic')\n",
    "plt.figure(figsize=(20,4))\n",
    "re=1\n",
    "for i in ['Selling_Price', 'Present_Price', 'Driven_kms']:\n",
    "    plt.subplot(1,4,re)\n",
    "    sns.kdeplot(x=df[i], color='blue')\n",
    "    plt.title(i)\n",
    "    re+=1\n",
    "    \n",
    "plt.tight_layout()\n",
    "plt.show()"
   ]
  },
  {
   "cell_type": "markdown",
   "id": "96ed95f2",
   "metadata": {},
   "source": [
    " all the three columns are skwewd. "
   ]
  },
  {
   "cell_type": "markdown",
   "id": "e33939b5",
   "metadata": {},
   "source": [
    "##### analysing numerical columns ''Year','Transmission', 'Owner','Fuel_Type', 'Selling_type'"
   ]
  },
  {
   "cell_type": "code",
   "execution_count": 13,
   "id": "41767cb2",
   "metadata": {
    "scrolled": false
   },
   "outputs": [
    {
     "data": {
      "image/png": "[encoded data removed]",
      "text/plain": [
       "<Figure size 1600x1600 with 5 Axes>"
      ]
     },
     "metadata": {},
     "output_type": "display_data"
    }
   ],
   "source": [
    "plt.figure(figsize=(20,20))\n",
    "re=1\n",
    "for i in ['Year','Transmission', 'Owner','Fuel_Type', 'Selling_type']:\n",
    "    plt.subplot(3,2,re)\n",
    "    sns.countplot(x=df[i], color='green')\n",
    "    plt.title(i)\n",
    "    re+=1\n",
    "    \n",
    "plt.tight_layout()\n",
    "plt.show()"
   ]
  },
  {
   "cell_type": "markdown",
   "id": "0049ecac",
   "metadata": {},
   "source": [
    "* The data from 2015 is mor ethan 50  while 2018 has only one entry. \n",
    "\n",
    "* The entries with zero owner  is high.\n",
    "\n",
    "* The data has  more counts in dealer type selling type.\n",
    "\n",
    "*  the count of manual transmission cars are very high compared to automatic cars. \n",
    "\n",
    "*  the data has more of petrol powered car than diesel or CNG. "
   ]
  },
  {
   "cell_type": "markdown",
   "id": "fab07ebd",
   "metadata": {},
   "source": [
    "### Bivariate analysis"
   ]
  },
  {
   "cell_type": "code",
   "execution_count": 14,
   "id": "e5ff2f29",
   "metadata": {},
   "outputs": [
    {
     "data": {
      "image/png": "[encoded data removed]",
      "text/plain": [
       "<Figure size 1000x1000 with 30 Axes>"
      ]
     },
     "metadata": {},
     "output_type": "display_data"
    }
   ],
   "source": [
    "plt.style.use('classic')\n",
    "sns.pairplot(df, diag_kind='kde')\n",
    "plt.show()"
   ]
  },
  {
   "cell_type": "markdown",
   "id": "0c8cccfd",
   "metadata": {},
   "source": [
    "* There is a relationship between year and owner. \n",
    "\n",
    "*  there could be a relationship between selling price and year.\n",
    "\n",
    "*  there could be a relationship between selling price and present price. \n",
    "\n",
    "*  their could be a relationship between driven kilometres and filling rice. "
   ]
  },
  {
   "cell_type": "code",
   "execution_count": 15,
   "id": "87ea1754",
   "metadata": {
    "scrolled": false
   },
   "outputs": [
    {
     "data": {
      "image/png": "[encoded data removed]",
      "text/plain": [
       "<Figure size 1200x480 with 1 Axes>"
      ]
     },
     "metadata": {},
     "output_type": "display_data"
    }
   ],
   "source": [
    "plt.figure(figsize=(15,6))\n",
    "sns.boxplot(data=df,x=df['Year'],y='Selling_Price')\n",
    "plt.title('Year vs Selling_Price')\n",
    "plt.show()"
   ]
  },
  {
   "cell_type": "markdown",
   "id": "97845609",
   "metadata": {},
   "source": [
    "The selling price has outliers from 2012 to 2017 and in 2002. "
   ]
  },
  {
   "cell_type": "code",
   "execution_count": 16,
   "id": "4764d307",
   "metadata": {
    "scrolled": false
   },
   "outputs": [
    {
     "data": {
      "image/png": "[encoded data removed]",
      "text/plain": [
       "<Figure size 1200x480 with 1 Axes>"
      ]
     },
     "metadata": {},
     "output_type": "display_data"
    }
   ],
   "source": [
    "plt.figure(figsize=(15,6))\n",
    "sns.boxplot(data=df,x=df['Fuel_Type'],y='Selling_Price')\n",
    "plt.title('Owner vs Selling_Price')\n",
    "plt.show()"
   ]
  },
  {
   "cell_type": "markdown",
   "id": "ff827f53",
   "metadata": {},
   "source": [
    "Petrol selling price has outliers "
   ]
  },
  {
   "cell_type": "code",
   "execution_count": 17,
   "id": "7b4b32ba",
   "metadata": {
    "scrolled": false
   },
   "outputs": [
    {
     "data": {
      "image/png": "[encoded data removed]",
      "text/plain": [
       "<Figure size 1200x480 with 1 Axes>"
      ]
     },
     "metadata": {},
     "output_type": "display_data"
    }
   ],
   "source": [
    "plt.figure(figsize=(15,6))\n",
    "sns.boxplot(data=df,x=df['Selling_type'],y='Selling_Price')\n",
    "plt.title('Selling_type vs Selling_Price')\n",
    "plt.show()"
   ]
  },
  {
   "cell_type": "markdown",
   "id": "b3259e87",
   "metadata": {},
   "source": [
    "Dealer type and individual type both has outliers in selling price. "
   ]
  },
  {
   "cell_type": "code",
   "execution_count": 18,
   "id": "e9e71692",
   "metadata": {
    "scrolled": false
   },
   "outputs": [
    {
     "data": {
      "image/png": "[encoded data removed]",
      "text/plain": [
       "<Figure size 1200x480 with 1 Axes>"
      ]
     },
     "metadata": {},
     "output_type": "display_data"
    }
   ],
   "source": [
    "plt.figure(figsize=(15,6))\n",
    "sns.boxplot(data=df,x=df['Transmission'],y='Selling_Price')\n",
    "plt.title('Transmission vs Selling_Price')\n",
    "plt.show()"
   ]
  },
  {
   "cell_type": "markdown",
   "id": "03682f10",
   "metadata": {},
   "source": [
    "manual type transmission has outliers in selling price "
   ]
  },
  {
   "cell_type": "code",
   "execution_count": 19,
   "id": "8a705382",
   "metadata": {
    "scrolled": false
   },
   "outputs": [
    {
     "data": {
      "image/png": "[encoded data removed]",
      "text/plain": [
       "<Figure size 1200x480 with 1 Axes>"
      ]
     },
     "metadata": {},
     "output_type": "display_data"
    }
   ],
   "source": [
    "plt.figure(figsize=(15,6))\n",
    "sns.boxplot(data=df,x=df['Owner'],y='Selling_Price')\n",
    "plt.title('Owner vs Selling_Price')\n",
    "plt.show()"
   ]
  },
  {
   "cell_type": "markdown",
   "id": "5234daa4",
   "metadata": {},
   "source": [
    "only 0 owner type has outliers in selling price. "
   ]
  },
  {
   "cell_type": "code",
   "execution_count": 20,
   "id": "62e90520",
   "metadata": {},
   "outputs": [
    {
     "data": {
      "text/plain": [
       "Index(['Car_Name', 'Year', 'Selling_Price', 'Present_Price', 'Driven_kms',\n",
       "       'Fuel_Type', 'Selling_type', 'Transmission', 'Owner'],\n",
       "      dtype='object')"
      ]
     },
     "execution_count": 20,
     "metadata": {},
     "output_type": "execute_result"
    }
   ],
   "source": [
    "df.columns"
   ]
  },
  {
   "cell_type": "markdown",
   "id": "26c1a4ad",
   "metadata": {},
   "source": [
    "### Evaluating car names relation with price"
   ]
  },
  {
   "cell_type": "code",
   "execution_count": 21,
   "id": "3871f13c",
   "metadata": {},
   "outputs": [
    {
     "data": {
      "text/plain": [
       "city                        26\n",
       "corolla altis               16\n",
       "verna                       14\n",
       "fortuner                    11\n",
       "brio                        10\n",
       "                            ..\n",
       "Honda CB Trigger             1\n",
       "Yamaha FZ S                  1\n",
       "Bajaj Pulsar 135 LS          1\n",
       "Activa 4g                    1\n",
       "Bajaj Avenger Street 220     1\n",
       "Name: Car_Name, Length: 98, dtype: int64"
      ]
     },
     "execution_count": 21,
     "metadata": {},
     "output_type": "execute_result"
    }
   ],
   "source": [
    "df['Car_Name'].value_counts()"
   ]
  },
  {
   "cell_type": "code",
   "execution_count": 22,
   "id": "4c2ba9c0",
   "metadata": {},
   "outputs": [
    {
     "data": {
      "text/plain": [
       "Index(['city', 'corolla altis', 'verna', 'fortuner', 'brio', 'ciaz', 'innova',\n",
       "       'i20', 'grand i10', 'jazz', 'amaze', 'Royal Enfield Classic 350',\n",
       "       'ertiga', 'eon', 'sx4', 'alto k10', 'i10', 'swift', 'Bajaj Pulsar 150',\n",
       "       'Royal Enfield Thunder 350', 'ritz', 'wagon r', 'etios liva', 'dzire',\n",
       "       'xcent', 'etios cross', 'Royal Enfield Thunder 500',\n",
       "       'TVS Apache RTR 160', 'Yamaha FZ S V 2.0', 'creta',\n",
       "       'Honda CB Hornet 160R', 'etios g', 'Bajaj Avenger 220',\n",
       "       'Bajaj Pulsar NS 200', 'Bajaj Discover 125', 'Bajaj Pulsar 220 F',\n",
       "       'TVS Apache RTR 180', 'Yamaha FZ  v 2.0', 'Honda Activa 4G',\n",
       "       'Hero Extreme', 'Honda CB twister', 'Hero Splender iSmart', 'Activa 3g',\n",
       "       'Hero Passion Pro', 'Honda CB Shine', 'Bajaj Avenger 220 dtsi',\n",
       "       'Honda CBR 150', 'elantra', 'Royal Enfield Classic 500', 'KTM RC200',\n",
       "       'Honda Karizma'],\n",
       "      dtype='object')"
      ]
     },
     "execution_count": 22,
     "metadata": {},
     "output_type": "execute_result"
    }
   ],
   "source": [
    "a=df['Car_Name'].value_counts()\n",
    "high_cars=a[a>1]\n",
    "high_cars.index"
   ]
  },
  {
   "cell_type": "code",
   "execution_count": 4,
   "id": "80d96ab4",
   "metadata": {
    "scrolled": false
   },
   "outputs": [
    {
     "data": {
      "text/html": [
       "<div>\n",
       "<style scoped>\n",
       "    .dataframe tbody tr th:only-of-type {\n",
       "        vertical-align: middle;\n",
       "    }\n",
       "\n",
       "    .dataframe tbody tr th {\n",
       "        vertical-align: top;\n",
       "    }\n",
       "\n",
       "    .dataframe thead th {\n",
       "        text-align: right;\n",
       "    }\n",
       "</style>\n",
       "<table border=\"1\" class=\"dataframe\">\n",
       "  <thead>\n",
       "    <tr style=\"text-align: right;\">\n",
       "      <th></th>\n",
       "      <th>Selling_Price</th>\n",
       "    </tr>\n",
       "    <tr>\n",
       "      <th>Car_Name</th>\n",
       "      <th></th>\n",
       "    </tr>\n",
       "  </thead>\n",
       "  <tbody>\n",
       "    <tr>\n",
       "      <th>land cruiser</th>\n",
       "      <td>35.000000</td>\n",
       "    </tr>\n",
       "    <tr>\n",
       "      <th>fortuner</th>\n",
       "      <td>18.685455</td>\n",
       "    </tr>\n",
       "    <tr>\n",
       "      <th>innova</th>\n",
       "      <td>12.777778</td>\n",
       "    </tr>\n",
       "    <tr>\n",
       "      <th>creta</th>\n",
       "      <td>11.800000</td>\n",
       "    </tr>\n",
       "    <tr>\n",
       "      <th>elantra</th>\n",
       "      <td>11.600000</td>\n",
       "    </tr>\n",
       "    <tr>\n",
       "      <th>...</th>\n",
       "      <td>...</td>\n",
       "    </tr>\n",
       "    <tr>\n",
       "      <th>Hero  CBZ Xtreme</th>\n",
       "      <td>0.200000</td>\n",
       "    </tr>\n",
       "    <tr>\n",
       "      <th>Hero Hunk</th>\n",
       "      <td>0.200000</td>\n",
       "    </tr>\n",
       "    <tr>\n",
       "      <th>Hero Super Splendor</th>\n",
       "      <td>0.200000</td>\n",
       "    </tr>\n",
       "    <tr>\n",
       "      <th>Bajaj  ct 100</th>\n",
       "      <td>0.180000</td>\n",
       "    </tr>\n",
       "    <tr>\n",
       "      <th>Bajaj Discover 125</th>\n",
       "      <td>0.175000</td>\n",
       "    </tr>\n",
       "  </tbody>\n",
       "</table>\n",
       "<p>98 rows × 1 columns</p>\n",
       "</div>"
      ],
      "text/plain": [
       "                     Selling_Price\n",
       "Car_Name                          \n",
       "land cruiser             35.000000\n",
       "fortuner                 18.685455\n",
       "innova                   12.777778\n",
       "creta                    11.800000\n",
       "elantra                  11.600000\n",
       "...                            ...\n",
       "Hero  CBZ Xtreme          0.200000\n",
       "Hero Hunk                 0.200000\n",
       "Hero Super Splendor       0.200000\n",
       "Bajaj  ct 100             0.180000\n",
       "Bajaj Discover 125        0.175000\n",
       "\n",
       "[98 rows x 1 columns]"
      ]
     },
     "execution_count": 4,
     "metadata": {},
     "output_type": "execute_result"
    }
   ],
   "source": [
    "df.groupby('Car_Name')[['Selling_Price']].mean().sort_values(by='Selling_Price', ascending=False)"
   ]
  },
  {
   "cell_type": "markdown",
   "id": "61e99e92",
   "metadata": {},
   "source": [
    "land cruiser has the average high selling price. "
   ]
  },
  {
   "cell_type": "code",
   "execution_count": 24,
   "id": "d522bab9",
   "metadata": {},
   "outputs": [
    {
     "data": {
      "image/png": "[encoded data removed]",
      "text/plain": [
       "<Figure size 640x480 with 2 Axes>"
      ]
     },
     "metadata": {},
     "output_type": "display_data"
    }
   ],
   "source": [
    "sns.heatmap(df.corr(), annot=True)\n",
    "plt.show()"
   ]
  },
  {
   "cell_type": "markdown",
   "id": "7fb48fb2",
   "metadata": {},
   "source": [
    "From the heat map the following conclusions can be driven, \n",
    "\n",
    "*  there is a negative correlation between year and driven kilometres\n",
    "\n",
    "*  there is a positive correlation between selling price and present price. "
   ]
  },
  {
   "cell_type": "markdown",
   "id": "5eae83f2",
   "metadata": {},
   "source": [
    "### CONCLUSIONS FROM EDA"
   ]
  },
  {
   "cell_type": "markdown",
   "id": "bf7a74c6",
   "metadata": {},
   "source": [
    "* we have data from 2003 to 2018.\n",
    "* there is a negative correlation between year and driven kilometres\n",
    "* there is a positive correlation between selling price and present price.\n",
    "* Dealer type and individual type both has outliers in selling price.\n",
    "* Petrol selling price has outliers \n",
    "* The data from 2015 is mor ethan 50 while 2018 has only one entry.\n",
    "* The entries with zero owner is high.\n",
    "* The data has more counts in dealer type selling type.\n",
    "* the count of manual transmission cars are very high compared to automatic cars.\n",
    "* the data has more of petrol powered car than diesel or CNG.\n",
    "\n",
    "\n",
    "##### changes that can be made are \n",
    "    * car names with only two entries can be bucketed into others categoty. "
   ]
  },
  {
   "cell_type": "markdown",
   "id": "fad1eb5d",
   "metadata": {},
   "source": [
    "### data preprocessing "
   ]
  },
  {
   "cell_type": "code",
   "execution_count": 5,
   "id": "588c40a2",
   "metadata": {},
   "outputs": [
    {
     "data": {
      "text/plain": [
       "Index(['Bajaj Discover 125', 'Bajaj Pulsar 220 F', 'TVS Apache RTR 180',\n",
       "       'Yamaha FZ  v 2.0', 'Honda Activa 4G', 'Hero Extreme',\n",
       "       'Honda CB twister', 'Hero Splender iSmart', 'Activa 3g',\n",
       "       'Hero Passion Pro', 'Honda CB Shine', 'Bajaj Avenger 220 dtsi',\n",
       "       'Honda CBR 150', 'elantra', 'Royal Enfield Classic 500', 'KTM RC200',\n",
       "       'Honda Karizma', 'Bajaj  ct 100', 'Hero  Ignitor Disc', 'TVS Jupyter',\n",
       "       'Hero Honda Passion Pro', 'Hero Splender Plus', 'vitara brezza',\n",
       "       'Bajaj Discover 100', 'Suzuki Access 125', 's cross', 'alto 800',\n",
       "       'baleno', 'TVS Wego', 'Hero  CBZ Xtreme', 'Hero Glamour', 'ignis',\n",
       "       'Hero Super Splendor', '800', 'Hero Hunk', 'Honda Activa 125',\n",
       "       'corolla', 'Hero Honda CBZ extreme', 'Yamaha FZ 16', 'camry',\n",
       "       'land cruiser', 'UM Renegade Mojave', 'Bajaj Dominar 400', 'KTM RC390',\n",
       "       'Hyosung GT250R', 'KTM 390 Duke ', 'Mahindra Mojo XT300',\n",
       "       'Bajaj Pulsar RS200', 'Royal Enfield Bullet 350', 'Bajaj Avenger 150',\n",
       "       'Bajaj Avenger 150 street', 'Honda CB Unicorn', 'omni',\n",
       "       'Bajaj Pulsar  NS 200', 'Hero Passion X pro', 'Yamaha Fazer ',\n",
       "       'TVS Sport ', 'Honda Dream Yuga ', 'etios gd', 'Honda CB Trigger',\n",
       "       'Yamaha FZ S ', 'Bajaj Pulsar 135 LS', 'Activa 4g',\n",
       "       'Bajaj Avenger Street 220'],\n",
       "      dtype='object')"
      ]
     },
     "execution_count": 5,
     "metadata": {},
     "output_type": "execute_result"
    }
   ],
   "source": [
    "a=df['Car_Name'].value_counts()\n",
    "cars=a[a<=2].index\n",
    "cars"
   ]
  },
  {
   "cell_type": "code",
   "execution_count": 6,
   "id": "11d2bb4e",
   "metadata": {},
   "outputs": [],
   "source": [
    "for i in cars:\n",
    "    df['Car_Name'] = df['Car_Name'].replace(i,'others')\n"
   ]
  },
  {
   "cell_type": "markdown",
   "id": "1c0795ea",
   "metadata": {},
   "source": [
    "### label encoding the columns"
   ]
  },
  {
   "cell_type": "code",
   "execution_count": 7,
   "id": "c6c6a3aa",
   "metadata": {},
   "outputs": [],
   "source": [
    "from sklearn.preprocessing import LabelEncoder\n",
    "le=LabelEncoder()\n",
    "\n",
    "df['Car_Name'] = le.fit_transform(df['Car_Name'])\n",
    "df['Fuel_Type'] = le.fit_transform(df['Fuel_Type'])\n",
    "df['Selling_type'] = le.fit_transform(df['Selling_type'])\n",
    "df['Transmission'] = le.fit_transform(df['Transmission'])"
   ]
  },
  {
   "cell_type": "code",
   "execution_count": 8,
   "id": "192073a7",
   "metadata": {
    "scrolled": false
   },
   "outputs": [
    {
     "data": {
      "text/html": [
       "<div>\n",
       "<style scoped>\n",
       "    .dataframe tbody tr th:only-of-type {\n",
       "        vertical-align: middle;\n",
       "    }\n",
       "\n",
       "    .dataframe tbody tr th {\n",
       "        vertical-align: top;\n",
       "    }\n",
       "\n",
       "    .dataframe thead th {\n",
       "        text-align: right;\n",
       "    }\n",
       "</style>\n",
       "<table border=\"1\" class=\"dataframe\">\n",
       "  <thead>\n",
       "    <tr style=\"text-align: right;\">\n",
       "      <th></th>\n",
       "      <th>Car_Name</th>\n",
       "      <th>Year</th>\n",
       "      <th>Selling_Price</th>\n",
       "      <th>Present_Price</th>\n",
       "      <th>Driven_kms</th>\n",
       "      <th>Fuel_Type</th>\n",
       "      <th>Selling_type</th>\n",
       "      <th>Transmission</th>\n",
       "      <th>Owner</th>\n",
       "    </tr>\n",
       "  </thead>\n",
       "  <tbody>\n",
       "    <tr>\n",
       "      <th>0</th>\n",
       "      <td>29</td>\n",
       "      <td>2014</td>\n",
       "      <td>3.35</td>\n",
       "      <td>5.59</td>\n",
       "      <td>27000</td>\n",
       "      <td>2</td>\n",
       "      <td>0</td>\n",
       "      <td>1</td>\n",
       "      <td>0</td>\n",
       "    </tr>\n",
       "    <tr>\n",
       "      <th>1</th>\n",
       "      <td>31</td>\n",
       "      <td>2013</td>\n",
       "      <td>4.75</td>\n",
       "      <td>9.54</td>\n",
       "      <td>43000</td>\n",
       "      <td>1</td>\n",
       "      <td>0</td>\n",
       "      <td>1</td>\n",
       "      <td>0</td>\n",
       "    </tr>\n",
       "    <tr>\n",
       "      <th>2</th>\n",
       "      <td>12</td>\n",
       "      <td>2017</td>\n",
       "      <td>7.25</td>\n",
       "      <td>9.85</td>\n",
       "      <td>6900</td>\n",
       "      <td>2</td>\n",
       "      <td>0</td>\n",
       "      <td>1</td>\n",
       "      <td>0</td>\n",
       "    </tr>\n",
       "    <tr>\n",
       "      <th>3</th>\n",
       "      <td>33</td>\n",
       "      <td>2011</td>\n",
       "      <td>2.85</td>\n",
       "      <td>4.15</td>\n",
       "      <td>5200</td>\n",
       "      <td>2</td>\n",
       "      <td>0</td>\n",
       "      <td>1</td>\n",
       "      <td>0</td>\n",
       "    </tr>\n",
       "    <tr>\n",
       "      <th>4</th>\n",
       "      <td>30</td>\n",
       "      <td>2014</td>\n",
       "      <td>4.60</td>\n",
       "      <td>6.87</td>\n",
       "      <td>42450</td>\n",
       "      <td>1</td>\n",
       "      <td>0</td>\n",
       "      <td>1</td>\n",
       "      <td>0</td>\n",
       "    </tr>\n",
       "    <tr>\n",
       "      <th>...</th>\n",
       "      <td>...</td>\n",
       "      <td>...</td>\n",
       "      <td>...</td>\n",
       "      <td>...</td>\n",
       "      <td>...</td>\n",
       "      <td>...</td>\n",
       "      <td>...</td>\n",
       "      <td>...</td>\n",
       "      <td>...</td>\n",
       "    </tr>\n",
       "    <tr>\n",
       "      <th>296</th>\n",
       "      <td>13</td>\n",
       "      <td>2016</td>\n",
       "      <td>9.50</td>\n",
       "      <td>11.60</td>\n",
       "      <td>33988</td>\n",
       "      <td>1</td>\n",
       "      <td>0</td>\n",
       "      <td>1</td>\n",
       "      <td>0</td>\n",
       "    </tr>\n",
       "    <tr>\n",
       "      <th>297</th>\n",
       "      <td>11</td>\n",
       "      <td>2015</td>\n",
       "      <td>4.00</td>\n",
       "      <td>5.90</td>\n",
       "      <td>60000</td>\n",
       "      <td>2</td>\n",
       "      <td>0</td>\n",
       "      <td>1</td>\n",
       "      <td>0</td>\n",
       "    </tr>\n",
       "    <tr>\n",
       "      <th>298</th>\n",
       "      <td>13</td>\n",
       "      <td>2009</td>\n",
       "      <td>3.35</td>\n",
       "      <td>11.00</td>\n",
       "      <td>87934</td>\n",
       "      <td>2</td>\n",
       "      <td>0</td>\n",
       "      <td>1</td>\n",
       "      <td>0</td>\n",
       "    </tr>\n",
       "    <tr>\n",
       "      <th>299</th>\n",
       "      <td>13</td>\n",
       "      <td>2017</td>\n",
       "      <td>11.50</td>\n",
       "      <td>12.50</td>\n",
       "      <td>9000</td>\n",
       "      <td>1</td>\n",
       "      <td>0</td>\n",
       "      <td>1</td>\n",
       "      <td>0</td>\n",
       "    </tr>\n",
       "    <tr>\n",
       "      <th>300</th>\n",
       "      <td>11</td>\n",
       "      <td>2016</td>\n",
       "      <td>5.30</td>\n",
       "      <td>5.90</td>\n",
       "      <td>5464</td>\n",
       "      <td>2</td>\n",
       "      <td>0</td>\n",
       "      <td>1</td>\n",
       "      <td>0</td>\n",
       "    </tr>\n",
       "  </tbody>\n",
       "</table>\n",
       "<p>301 rows × 9 columns</p>\n",
       "</div>"
      ],
      "text/plain": [
       "     Car_Name  Year  Selling_Price  Present_Price  Driven_kms  Fuel_Type  \\\n",
       "0          29  2014           3.35           5.59       27000          2   \n",
       "1          31  2013           4.75           9.54       43000          1   \n",
       "2          12  2017           7.25           9.85        6900          2   \n",
       "3          33  2011           2.85           4.15        5200          2   \n",
       "4          30  2014           4.60           6.87       42450          1   \n",
       "..        ...   ...            ...            ...         ...        ...   \n",
       "296        13  2016           9.50          11.60       33988          1   \n",
       "297        11  2015           4.00           5.90       60000          2   \n",
       "298        13  2009           3.35          11.00       87934          2   \n",
       "299        13  2017          11.50          12.50        9000          1   \n",
       "300        11  2016           5.30           5.90        5464          2   \n",
       "\n",
       "     Selling_type  Transmission  Owner  \n",
       "0               0             1      0  \n",
       "1               0             1      0  \n",
       "2               0             1      0  \n",
       "3               0             1      0  \n",
       "4               0             1      0  \n",
       "..            ...           ...    ...  \n",
       "296             0             1      0  \n",
       "297             0             1      0  \n",
       "298             0             1      0  \n",
       "299             0             1      0  \n",
       "300             0             1      0  \n",
       "\n",
       "[301 rows x 9 columns]"
      ]
     },
     "execution_count": 8,
     "metadata": {},
     "output_type": "execute_result"
    }
   ],
   "source": [
    "df"
   ]
  },
  {
   "cell_type": "markdown",
   "id": "e27daf21",
   "metadata": {},
   "source": [
    "### split the data"
   ]
  },
  {
   "cell_type": "code",
   "execution_count": 9,
   "id": "0cdaebfa",
   "metadata": {},
   "outputs": [],
   "source": [
    "from sklearn.model_selection import train_test_split\n",
    "\n",
    "X=df.drop('Selling_Price', axis=1)\n",
    "y=df['Selling_Price']"
   ]
  },
  {
   "cell_type": "code",
   "execution_count": 11,
   "id": "28a6bef0",
   "metadata": {},
   "outputs": [],
   "source": [
    "x_train,x_test,y_train,y_test=train_test_split(X,y,test_size=0.20, random_state=10, shuffle=True)"
   ]
  },
  {
   "cell_type": "markdown",
   "id": "cf0c43a8",
   "metadata": {},
   "source": [
    "### scale the numerical columns "
   ]
  },
  {
   "cell_type": "code",
   "execution_count": 12,
   "id": "18225a5e",
   "metadata": {},
   "outputs": [],
   "source": [
    "from sklearn.preprocessing import MinMaxScaler\n",
    "mm = MinMaxScaler()\n",
    "cl= ['Year','Present_Price', 'Driven_kms']\n",
    "x_train[cl] = mm.fit_transform(x_train[cl])\n",
    "x_test[cl]=mm.transform(x_test[cl])"
   ]
  },
  {
   "cell_type": "code",
   "execution_count": null,
   "id": "4e67143c",
   "metadata": {},
   "outputs": [],
   "source": []
  },
  {
   "cell_type": "markdown",
   "id": "55de81c9",
   "metadata": {},
   "source": [
    "## Model Building "
   ]
  },
  {
   "cell_type": "code",
   "execution_count": 13,
   "id": "1d78db89",
   "metadata": {},
   "outputs": [],
   "source": [
    "# import the libraries\n",
    "from sklearn.linear_model import LinearRegression\n",
    "from sklearn.model_selection import train_test_split\n",
    "import statsmodels.api as sm\n",
    "from sklearn.preprocessing import PowerTransformer,StandardScaler,MinMaxScaler,RobustScaler,LabelEncoder\n",
    "from statsmodels.stats.outliers_influence import variance_inflation_factor\n",
    "from sklearn.metrics import mean_squared_error,mean_absolute_error,mean_absolute_percentage_error,r2_score\n",
    "from sklearn.model_selection import train_test_split,cross_val_score,LeaveOneOut,GridSearchCV ,RandomizedSearchCV\n",
    "from sklearn.feature_selection import RFE\n",
    "from mlxtend.feature_selection import SequentialFeatureSelector as sfs\n",
    "from sklearn.linear_model import Lasso,Ridge,ElasticNet,LinearRegression,SGDRegressor\n",
    "from sklearn.neighbors import KNeighborsRegressor\n",
    "from statsmodels.stats.diagnostic import het_breuschpagan\n",
    "from sklearn.ensemble import RandomForestRegressor, GradientBoostingRegressor\n",
    "from sklearn.tree import DecisionTreeRegressor\n",
    "from xgboost import XGBRegressor"
   ]
  },
  {
   "cell_type": "code",
   "execution_count": 14,
   "id": "8dd77a45",
   "metadata": {},
   "outputs": [
    {
     "name": "stdout",
     "output_type": "stream",
     "text": [
      "fitting the model .... LR\n",
      "fitting the model .... knnR\n",
      "fitting the model .... decisiontreeR\n",
      "fitting the model .... randomforestR\n",
      "fitting the model .... gradientboostR\n",
      "fitting the model .... xgboostR\n"
     ]
    }
   ],
   "source": [
    "Regressors={'LR':LinearRegression(),\n",
    "    'knnR':KNeighborsRegressor(),\n",
    "              'decisiontreeR':DecisionTreeRegressor(),\n",
    "              'randomforestR':RandomForestRegressor(),\n",
    "              'gradientboostR':GradientBoostingRegressor(),\n",
    "             \"xgboostR\":XGBRegressor()}\n",
    "\n",
    "model_report=pd.DataFrame(columns=['model_name','r2 train','mse train','mse test']) #,#'roc'\n",
    "\n",
    "for Regressor, Regressor_name in list(zip(Regressors.values(), Regressors.keys())):\n",
    "    Regressor.fit(x_train,y_train)\n",
    "    y_pred_train=Regressor.predict(x_train)\n",
    "    y_pred_test=Regressor.predict(x_test)\n",
    "    print('fitting the model ....',Regressor_name)\n",
    "    t=pd.Series({\n",
    "        'model_name':Regressor_name, \n",
    "        'r2 train':r2_score(y_train, y_pred_train),\n",
    "        'mse train':mean_squared_error(y_train, y_pred_train),\n",
    "        'mse test':mean_squared_error(y_test, y_pred_test)\n",
    "    })\n",
    "    model_report=model_report.append(t,ignore_index=True)\n",
    "    "
   ]
  },
  {
   "cell_type": "code",
   "execution_count": 15,
   "id": "b23dda76",
   "metadata": {},
   "outputs": [
    {
     "data": {
      "text/html": [
       "<div>\n",
       "<style scoped>\n",
       "    .dataframe tbody tr th:only-of-type {\n",
       "        vertical-align: middle;\n",
       "    }\n",
       "\n",
       "    .dataframe tbody tr th {\n",
       "        vertical-align: top;\n",
       "    }\n",
       "\n",
       "    .dataframe thead th {\n",
       "        text-align: right;\n",
       "    }\n",
       "</style>\n",
       "<table border=\"1\" class=\"dataframe\">\n",
       "  <thead>\n",
       "    <tr style=\"text-align: right;\">\n",
       "      <th></th>\n",
       "      <th>model_name</th>\n",
       "      <th>r2 train</th>\n",
       "      <th>mse train</th>\n",
       "      <th>mse test</th>\n",
       "    </tr>\n",
       "  </thead>\n",
       "  <tbody>\n",
       "    <tr>\n",
       "      <th>0</th>\n",
       "      <td>LR</td>\n",
       "      <td>0.884072</td>\n",
       "      <td>2.787046</td>\n",
       "      <td>5.068282</td>\n",
       "    </tr>\n",
       "    <tr>\n",
       "      <th>1</th>\n",
       "      <td>knnR</td>\n",
       "      <td>0.807263</td>\n",
       "      <td>4.633634</td>\n",
       "      <td>4.007949</td>\n",
       "    </tr>\n",
       "    <tr>\n",
       "      <th>2</th>\n",
       "      <td>decisiontreeR</td>\n",
       "      <td>1.000000</td>\n",
       "      <td>0.000000</td>\n",
       "      <td>2.812910</td>\n",
       "    </tr>\n",
       "    <tr>\n",
       "      <th>3</th>\n",
       "      <td>randomforestR</td>\n",
       "      <td>0.981450</td>\n",
       "      <td>0.445957</td>\n",
       "      <td>2.678047</td>\n",
       "    </tr>\n",
       "    <tr>\n",
       "      <th>4</th>\n",
       "      <td>gradientboostR</td>\n",
       "      <td>0.995845</td>\n",
       "      <td>0.099894</td>\n",
       "      <td>1.801859</td>\n",
       "    </tr>\n",
       "    <tr>\n",
       "      <th>5</th>\n",
       "      <td>xgboostR</td>\n",
       "      <td>0.999998</td>\n",
       "      <td>0.000056</td>\n",
       "      <td>1.873418</td>\n",
       "    </tr>\n",
       "  </tbody>\n",
       "</table>\n",
       "</div>"
      ],
      "text/plain": [
       "       model_name  r2 train  mse train  mse test\n",
       "0              LR  0.884072   2.787046  5.068282\n",
       "1            knnR  0.807263   4.633634  4.007949\n",
       "2   decisiontreeR  1.000000   0.000000  2.812910\n",
       "3   randomforestR  0.981450   0.445957  2.678047\n",
       "4  gradientboostR  0.995845   0.099894  1.801859\n",
       "5        xgboostR  0.999998   0.000056  1.873418"
      ]
     },
     "execution_count": 15,
     "metadata": {},
     "output_type": "execute_result"
    }
   ],
   "source": [
    "model_report"
   ]
  },
  {
   "cell_type": "markdown",
   "id": "a4dc9c5f",
   "metadata": {},
   "source": [
    "The decision tree model shows signs of overfitting and \n",
    "all models needs improvement. \n"
   ]
  },
  {
   "cell_type": "markdown",
   "id": "0740f489",
   "metadata": {},
   "source": [
    "## RIDGE"
   ]
  },
  {
   "cell_type": "code",
   "execution_count": 16,
   "id": "a5f7578f",
   "metadata": {},
   "outputs": [
    {
     "name": "stdout",
     "output_type": "stream",
     "text": [
      "Best parameters for Ridge Regression:  {'alpha': 0.1} \n",
      "\n"
     ]
    }
   ],
   "source": [
    "tuned_paramaters = [{'alpha':[1e-15, 1e-10, 1e-8, 1e-4,1e-3, 1e-2, 0.1, 1, 5, 10, 20, 40, 60, 80, 100]}]\n",
    " \n",
    "# initiate the ridge regression model\n",
    "ridge = Ridge()\n",
    "\n",
    "\n",
    "ridge_grid = GridSearchCV(estimator = ridge, \n",
    "                          param_grid = tuned_paramaters, \n",
    "                          cv = 10)\n",
    "\n",
    "# fit the model on X_train and y_train using fit()\n",
    "ridge_grid.fit(x_train, y_train)\n",
    "\n",
    "# get the best parameters\n",
    "print('Best parameters for Ridge Regression: ', ridge_grid.best_params_, '\\n')"
   ]
  },
  {
   "cell_type": "code",
   "execution_count": 17,
   "id": "900f026b",
   "metadata": {},
   "outputs": [
    {
     "data": {
      "text/html": [
       "<style>#sk-container-id-1 {color: black;}#sk-container-id-1 pre{padding: 0;}#sk-container-id-1 div.sk-toggleable {background-color: white;}#sk-container-id-1 label.sk-toggleable__label {cursor: pointer;display: block;width: 100%;margin-bottom: 0;padding: 0.3em;box-sizing: border-box;text-align: center;}#sk-container-id-1 label.sk-toggleable__label-arrow:before {content: \"▸\";float: left;margin-right: 0.25em;color: #696969;}#sk-container-id-1 label.sk-toggleable__label-arrow:hover:before {color: black;}#sk-container-id-1 div.sk-estimator:hover label.sk-toggleable__label-arrow:before {color: black;}#sk-container-id-1 div.sk-toggleable__content {max-height: 0;max-width: 0;overflow: hidden;text-align: left;background-color: #f0f8ff;}#sk-container-id-1 div.sk-toggleable__content pre {margin: 0.2em;color: black;border-radius: 0.25em;background-color: #f0f8ff;}#sk-container-id-1 input.sk-toggleable__control:checked~div.sk-toggleable__content {max-height: 200px;max-width: 100%;overflow: auto;}#sk-container-id-1 input.sk-toggleable__control:checked~label.sk-toggleable__label-arrow:before {content: \"▾\";}#sk-container-id-1 div.sk-estimator input.sk-toggleable__control:checked~label.sk-toggleable__label {background-color: #d4ebff;}#sk-container-id-1 div.sk-label input.sk-toggleable__control:checked~label.sk-toggleable__label {background-color: #d4ebff;}#sk-container-id-1 input.sk-hidden--visually {border: 0;clip: rect(1px 1px 1px 1px);clip: rect(1px, 1px, 1px, 1px);height: 1px;margin: -1px;overflow: hidden;padding: 0;position: absolute;width: 1px;}#sk-container-id-1 div.sk-estimator {font-family: monospace;background-color: #f0f8ff;border: 1px dotted black;border-radius: 0.25em;box-sizing: border-box;margin-bottom: 0.5em;}#sk-container-id-1 div.sk-estimator:hover {background-color: #d4ebff;}#sk-container-id-1 div.sk-parallel-item::after {content: \"\";width: 100%;border-bottom: 1px solid gray;flex-grow: 1;}#sk-container-id-1 div.sk-label:hover label.sk-toggleable__label {background-color: #d4ebff;}#sk-container-id-1 div.sk-serial::before {content: \"\";position: absolute;border-left: 1px solid gray;box-sizing: border-box;top: 0;bottom: 0;left: 50%;z-index: 0;}#sk-container-id-1 div.sk-serial {display: flex;flex-direction: column;align-items: center;background-color: white;padding-right: 0.2em;padding-left: 0.2em;position: relative;}#sk-container-id-1 div.sk-item {position: relative;z-index: 1;}#sk-container-id-1 div.sk-parallel {display: flex;align-items: stretch;justify-content: center;background-color: white;position: relative;}#sk-container-id-1 div.sk-item::before, #sk-container-id-1 div.sk-parallel-item::before {content: \"\";position: absolute;border-left: 1px solid gray;box-sizing: border-box;top: 0;bottom: 0;left: 50%;z-index: -1;}#sk-container-id-1 div.sk-parallel-item {display: flex;flex-direction: column;z-index: 1;position: relative;background-color: white;}#sk-container-id-1 div.sk-parallel-item:first-child::after {align-self: flex-end;width: 50%;}#sk-container-id-1 div.sk-parallel-item:last-child::after {align-self: flex-start;width: 50%;}#sk-container-id-1 div.sk-parallel-item:only-child::after {width: 0;}#sk-container-id-1 div.sk-dashed-wrapped {border: 1px dashed gray;margin: 0 0.4em 0.5em 0.4em;box-sizing: border-box;padding-bottom: 0.4em;background-color: white;}#sk-container-id-1 div.sk-label label {font-family: monospace;font-weight: bold;display: inline-block;line-height: 1.2em;}#sk-container-id-1 div.sk-label-container {text-align: center;}#sk-container-id-1 div.sk-container {/* jupyter's `normalize.less` sets `[hidden] { display: none; }` but bootstrap.min.css set `[hidden] { display: none !important; }` so we also need the `!important` here to be able to override the default hidden behavior on the sphinx rendered scikit-learn.org. See: https://github.com/scikit-learn/scikit-learn/issues/21755 */display: inline-block !important;position: relative;}#sk-container-id-1 div.sk-text-repr-fallback {display: none;}</style><div id=\"sk-container-id-1\" class=\"sk-top-container\"><div class=\"sk-text-repr-fallback\"><pre>Ridge(alpha=0.1, max_iter=500)</pre><b>In a Jupyter environment, please rerun this cell to show the HTML representation or trust the notebook. <br />On GitHub, the HTML representation is unable to render, please try loading this page with nbviewer.org.</b></div><div class=\"sk-container\" hidden><div class=\"sk-item\"><div class=\"sk-estimator sk-toggleable\"><input class=\"sk-toggleable__control sk-hidden--visually\" id=\"sk-estimator-id-1\" type=\"checkbox\" checked><label for=\"sk-estimator-id-1\" class=\"sk-toggleable__label sk-toggleable__label-arrow\">Ridge</label><div class=\"sk-toggleable__content\"><pre>Ridge(alpha=0.1, max_iter=500)</pre></div></div></div></div></div>"
      ],
      "text/plain": [
       "Ridge(alpha=0.1, max_iter=500)"
      ]
     },
     "execution_count": 17,
     "metadata": {},
     "output_type": "execute_result"
    }
   ],
   "source": [
    "# use Ridge() to perform ridge regression\n",
    "\n",
    "ridge_model = Ridge(alpha = 0.1, max_iter = 500)\n",
    "\n",
    "# fit the model on train set\n",
    "ridge_model.fit(x_train, y_train)"
   ]
  },
  {
   "cell_type": "code",
   "execution_count": 18,
   "id": "8d1e7854",
   "metadata": {},
   "outputs": [],
   "source": [
    "# get predicted values\n",
    "\n",
    "ypred_train_ridge = ridge_model.predict(x_train)\n",
    "ypred_test_ridge = ridge_model.predict(x_test)"
   ]
  },
  {
   "cell_type": "code",
   "execution_count": 19,
   "id": "0e2a8e6c",
   "metadata": {},
   "outputs": [],
   "source": [
    "t=pd.Series({\n",
    "        'model_name':'ridge lr', \n",
    "        'r2 train':r2_score(y_train, ypred_train_ridge),\n",
    "        'mse train':mean_squared_error(y_train, ypred_train_ridge),\n",
    "        'mse test':mean_squared_error(y_test, ypred_test_ridge )\n",
    "    })\n",
    "model_report=model_report.append(t,ignore_index=True)\n",
    "    "
   ]
  },
  {
   "cell_type": "markdown",
   "id": "9f40b8a4",
   "metadata": {},
   "source": [
    "### lasso"
   ]
  },
  {
   "cell_type": "code",
   "execution_count": 20,
   "id": "32a26611",
   "metadata": {},
   "outputs": [
    {
     "name": "stdout",
     "output_type": "stream",
     "text": [
      "Best parameters for Lasso Regression:  {'alpha': 0.01} \n",
      "\n"
     ]
    }
   ],
   "source": [
    "tuned_paramaters = [{'alpha':[1e-15, 1e-10, 1e-8, 1e-4,1e-3, 1e-2, 0.1, 1, 5, 10, 20, 40, 60, 80, 100]}]\n",
    " \n",
    "# initiate the LASSO regression model\n",
    "lasso = Lasso()\n",
    "\n",
    "\n",
    "lasso_grid = GridSearchCV(estimator = lasso, \n",
    "                          param_grid = tuned_paramaters, \n",
    "                          cv = 10)\n",
    "\n",
    "# fit the model on X_train and y_train using fit()\n",
    "lasso_grid.fit(x_train, y_train)\n",
    "\n",
    "# get the best parameters\n",
    "print('Best parameters for Lasso Regression: ', lasso_grid.best_params_, '\\n')\n"
   ]
  },
  {
   "cell_type": "code",
   "execution_count": 21,
   "id": "946e8691",
   "metadata": {},
   "outputs": [],
   "source": [
    "lasso_model = Lasso(alpha = 0.01, max_iter = 500)"
   ]
  },
  {
   "cell_type": "code",
   "execution_count": 22,
   "id": "3bd9e2fe",
   "metadata": {},
   "outputs": [
    {
     "data": {
      "text/html": [
       "<style>#sk-container-id-2 {color: black;}#sk-container-id-2 pre{padding: 0;}#sk-container-id-2 div.sk-toggleable {background-color: white;}#sk-container-id-2 label.sk-toggleable__label {cursor: pointer;display: block;width: 100%;margin-bottom: 0;padding: 0.3em;box-sizing: border-box;text-align: center;}#sk-container-id-2 label.sk-toggleable__label-arrow:before {content: \"▸\";float: left;margin-right: 0.25em;color: #696969;}#sk-container-id-2 label.sk-toggleable__label-arrow:hover:before {color: black;}#sk-container-id-2 div.sk-estimator:hover label.sk-toggleable__label-arrow:before {color: black;}#sk-container-id-2 div.sk-toggleable__content {max-height: 0;max-width: 0;overflow: hidden;text-align: left;background-color: #f0f8ff;}#sk-container-id-2 div.sk-toggleable__content pre {margin: 0.2em;color: black;border-radius: 0.25em;background-color: #f0f8ff;}#sk-container-id-2 input.sk-toggleable__control:checked~div.sk-toggleable__content {max-height: 200px;max-width: 100%;overflow: auto;}#sk-container-id-2 input.sk-toggleable__control:checked~label.sk-toggleable__label-arrow:before {content: \"▾\";}#sk-container-id-2 div.sk-estimator input.sk-toggleable__control:checked~label.sk-toggleable__label {background-color: #d4ebff;}#sk-container-id-2 div.sk-label input.sk-toggleable__control:checked~label.sk-toggleable__label {background-color: #d4ebff;}#sk-container-id-2 input.sk-hidden--visually {border: 0;clip: rect(1px 1px 1px 1px);clip: rect(1px, 1px, 1px, 1px);height: 1px;margin: -1px;overflow: hidden;padding: 0;position: absolute;width: 1px;}#sk-container-id-2 div.sk-estimator {font-family: monospace;background-color: #f0f8ff;border: 1px dotted black;border-radius: 0.25em;box-sizing: border-box;margin-bottom: 0.5em;}#sk-container-id-2 div.sk-estimator:hover {background-color: #d4ebff;}#sk-container-id-2 div.sk-parallel-item::after {content: \"\";width: 100%;border-bottom: 1px solid gray;flex-grow: 1;}#sk-container-id-2 div.sk-label:hover label.sk-toggleable__label {background-color: #d4ebff;}#sk-container-id-2 div.sk-serial::before {content: \"\";position: absolute;border-left: 1px solid gray;box-sizing: border-box;top: 0;bottom: 0;left: 50%;z-index: 0;}#sk-container-id-2 div.sk-serial {display: flex;flex-direction: column;align-items: center;background-color: white;padding-right: 0.2em;padding-left: 0.2em;position: relative;}#sk-container-id-2 div.sk-item {position: relative;z-index: 1;}#sk-container-id-2 div.sk-parallel {display: flex;align-items: stretch;justify-content: center;background-color: white;position: relative;}#sk-container-id-2 div.sk-item::before, #sk-container-id-2 div.sk-parallel-item::before {content: \"\";position: absolute;border-left: 1px solid gray;box-sizing: border-box;top: 0;bottom: 0;left: 50%;z-index: -1;}#sk-container-id-2 div.sk-parallel-item {display: flex;flex-direction: column;z-index: 1;position: relative;background-color: white;}#sk-container-id-2 div.sk-parallel-item:first-child::after {align-self: flex-end;width: 50%;}#sk-container-id-2 div.sk-parallel-item:last-child::after {align-self: flex-start;width: 50%;}#sk-container-id-2 div.sk-parallel-item:only-child::after {width: 0;}#sk-container-id-2 div.sk-dashed-wrapped {border: 1px dashed gray;margin: 0 0.4em 0.5em 0.4em;box-sizing: border-box;padding-bottom: 0.4em;background-color: white;}#sk-container-id-2 div.sk-label label {font-family: monospace;font-weight: bold;display: inline-block;line-height: 1.2em;}#sk-container-id-2 div.sk-label-container {text-align: center;}#sk-container-id-2 div.sk-container {/* jupyter's `normalize.less` sets `[hidden] { display: none; }` but bootstrap.min.css set `[hidden] { display: none !important; }` so we also need the `!important` here to be able to override the default hidden behavior on the sphinx rendered scikit-learn.org. See: https://github.com/scikit-learn/scikit-learn/issues/21755 */display: inline-block !important;position: relative;}#sk-container-id-2 div.sk-text-repr-fallback {display: none;}</style><div id=\"sk-container-id-2\" class=\"sk-top-container\"><div class=\"sk-text-repr-fallback\"><pre>Lasso(alpha=0.01, max_iter=500)</pre><b>In a Jupyter environment, please rerun this cell to show the HTML representation or trust the notebook. <br />On GitHub, the HTML representation is unable to render, please try loading this page with nbviewer.org.</b></div><div class=\"sk-container\" hidden><div class=\"sk-item\"><div class=\"sk-estimator sk-toggleable\"><input class=\"sk-toggleable__control sk-hidden--visually\" id=\"sk-estimator-id-2\" type=\"checkbox\" checked><label for=\"sk-estimator-id-2\" class=\"sk-toggleable__label sk-toggleable__label-arrow\">Lasso</label><div class=\"sk-toggleable__content\"><pre>Lasso(alpha=0.01, max_iter=500)</pre></div></div></div></div></div>"
      ],
      "text/plain": [
       "Lasso(alpha=0.01, max_iter=500)"
      ]
     },
     "execution_count": 22,
     "metadata": {},
     "output_type": "execute_result"
    }
   ],
   "source": [
    "# fit the model \n",
    "lasso_model.fit(x_train, y_train)"
   ]
  },
  {
   "cell_type": "code",
   "execution_count": 23,
   "id": "3dab4e24",
   "metadata": {},
   "outputs": [],
   "source": [
    "# get the predicted values\n",
    "ypred_train_LASSO = lasso_model.predict(x_train)\n",
    "ypred_test_LASSO = lasso_model.predict(x_test)"
   ]
  },
  {
   "cell_type": "code",
   "execution_count": 24,
   "id": "1d95eef6",
   "metadata": {},
   "outputs": [],
   "source": [
    "t=pd.Series({\n",
    "        'model_name':'lasso lr', \n",
    "        'r2 train':r2_score(y_train, ypred_train_ridge),\n",
    "        'mse train':mean_squared_error(y_train, ypred_train_ridge),\n",
    "        'mse test':mean_squared_error(y_test, ypred_test_ridge )\n",
    "    })\n",
    "model_report=model_report.append(t,ignore_index=True)"
   ]
  },
  {
   "cell_type": "markdown",
   "id": "7dadf5f1",
   "metadata": {},
   "source": [
    "### enet"
   ]
  },
  {
   "cell_type": "code",
   "execution_count": 25,
   "id": "9b4ff739",
   "metadata": {},
   "outputs": [
    {
     "name": "stdout",
     "output_type": "stream",
     "text": [
      "Best parameters for Elastic Net Regression:  {'alpha': 0.001, 'l1_ratio': 0.2} \n",
      "\n"
     ]
    }
   ],
   "source": [
    "tuned_paramaters = [{'alpha':[0.0001, 0.001, 0.01, 0.1, 1, 5, 10, 20, 40, 60],\n",
    "                      'l1_ratio':[0.0001, 0.0002, 0.001, 0.01, 0.1, 0.2]}]\n",
    "\n",
    "# initiate the elastic net regression model  \n",
    "enet = ElasticNet()\n",
    "\n",
    "\n",
    "enet_grid = GridSearchCV(estimator = enet, \n",
    "                          param_grid = tuned_paramaters, \n",
    "                          cv = 10)\n",
    "\n",
    "# fit the model on X_train and y_train using fit()\n",
    "enet_grid.fit(x_train, y_train)\n",
    "\n",
    "# get the best parameters\n",
    "print('Best parameters for Elastic Net Regression: ', enet_grid.best_params_, '\\n')\n",
    "\n"
   ]
  },
  {
   "cell_type": "code",
   "execution_count": 26,
   "id": "395ef2a7",
   "metadata": {},
   "outputs": [],
   "source": [
    "elasticnet_model = ElasticNet(alpha = 0.001, l1_ratio=0.2, max_iter = 500)"
   ]
  },
  {
   "cell_type": "code",
   "execution_count": 27,
   "id": "49e0074f",
   "metadata": {},
   "outputs": [
    {
     "data": {
      "text/html": [
       "<style>#sk-container-id-3 {color: black;}#sk-container-id-3 pre{padding: 0;}#sk-container-id-3 div.sk-toggleable {background-color: white;}#sk-container-id-3 label.sk-toggleable__label {cursor: pointer;display: block;width: 100%;margin-bottom: 0;padding: 0.3em;box-sizing: border-box;text-align: center;}#sk-container-id-3 label.sk-toggleable__label-arrow:before {content: \"▸\";float: left;margin-right: 0.25em;color: #696969;}#sk-container-id-3 label.sk-toggleable__label-arrow:hover:before {color: black;}#sk-container-id-3 div.sk-estimator:hover label.sk-toggleable__label-arrow:before {color: black;}#sk-container-id-3 div.sk-toggleable__content {max-height: 0;max-width: 0;overflow: hidden;text-align: left;background-color: #f0f8ff;}#sk-container-id-3 div.sk-toggleable__content pre {margin: 0.2em;color: black;border-radius: 0.25em;background-color: #f0f8ff;}#sk-container-id-3 input.sk-toggleable__control:checked~div.sk-toggleable__content {max-height: 200px;max-width: 100%;overflow: auto;}#sk-container-id-3 input.sk-toggleable__control:checked~label.sk-toggleable__label-arrow:before {content: \"▾\";}#sk-container-id-3 div.sk-estimator input.sk-toggleable__control:checked~label.sk-toggleable__label {background-color: #d4ebff;}#sk-container-id-3 div.sk-label input.sk-toggleable__control:checked~label.sk-toggleable__label {background-color: #d4ebff;}#sk-container-id-3 input.sk-hidden--visually {border: 0;clip: rect(1px 1px 1px 1px);clip: rect(1px, 1px, 1px, 1px);height: 1px;margin: -1px;overflow: hidden;padding: 0;position: absolute;width: 1px;}#sk-container-id-3 div.sk-estimator {font-family: monospace;background-color: #f0f8ff;border: 1px dotted black;border-radius: 0.25em;box-sizing: border-box;margin-bottom: 0.5em;}#sk-container-id-3 div.sk-estimator:hover {background-color: #d4ebff;}#sk-container-id-3 div.sk-parallel-item::after {content: \"\";width: 100%;border-bottom: 1px solid gray;flex-grow: 1;}#sk-container-id-3 div.sk-label:hover label.sk-toggleable__label {background-color: #d4ebff;}#sk-container-id-3 div.sk-serial::before {content: \"\";position: absolute;border-left: 1px solid gray;box-sizing: border-box;top: 0;bottom: 0;left: 50%;z-index: 0;}#sk-container-id-3 div.sk-serial {display: flex;flex-direction: column;align-items: center;background-color: white;padding-right: 0.2em;padding-left: 0.2em;position: relative;}#sk-container-id-3 div.sk-item {position: relative;z-index: 1;}#sk-container-id-3 div.sk-parallel {display: flex;align-items: stretch;justify-content: center;background-color: white;position: relative;}#sk-container-id-3 div.sk-item::before, #sk-container-id-3 div.sk-parallel-item::before {content: \"\";position: absolute;border-left: 1px solid gray;box-sizing: border-box;top: 0;bottom: 0;left: 50%;z-index: -1;}#sk-container-id-3 div.sk-parallel-item {display: flex;flex-direction: column;z-index: 1;position: relative;background-color: white;}#sk-container-id-3 div.sk-parallel-item:first-child::after {align-self: flex-end;width: 50%;}#sk-container-id-3 div.sk-parallel-item:last-child::after {align-self: flex-start;width: 50%;}#sk-container-id-3 div.sk-parallel-item:only-child::after {width: 0;}#sk-container-id-3 div.sk-dashed-wrapped {border: 1px dashed gray;margin: 0 0.4em 0.5em 0.4em;box-sizing: border-box;padding-bottom: 0.4em;background-color: white;}#sk-container-id-3 div.sk-label label {font-family: monospace;font-weight: bold;display: inline-block;line-height: 1.2em;}#sk-container-id-3 div.sk-label-container {text-align: center;}#sk-container-id-3 div.sk-container {/* jupyter's `normalize.less` sets `[hidden] { display: none; }` but bootstrap.min.css set `[hidden] { display: none !important; }` so we also need the `!important` here to be able to override the default hidden behavior on the sphinx rendered scikit-learn.org. See: https://github.com/scikit-learn/scikit-learn/issues/21755 */display: inline-block !important;position: relative;}#sk-container-id-3 div.sk-text-repr-fallback {display: none;}</style><div id=\"sk-container-id-3\" class=\"sk-top-container\"><div class=\"sk-text-repr-fallback\"><pre>ElasticNet(alpha=0.001, l1_ratio=0.2, max_iter=500)</pre><b>In a Jupyter environment, please rerun this cell to show the HTML representation or trust the notebook. <br />On GitHub, the HTML representation is unable to render, please try loading this page with nbviewer.org.</b></div><div class=\"sk-container\" hidden><div class=\"sk-item\"><div class=\"sk-estimator sk-toggleable\"><input class=\"sk-toggleable__control sk-hidden--visually\" id=\"sk-estimator-id-3\" type=\"checkbox\" checked><label for=\"sk-estimator-id-3\" class=\"sk-toggleable__label sk-toggleable__label-arrow\">ElasticNet</label><div class=\"sk-toggleable__content\"><pre>ElasticNet(alpha=0.001, l1_ratio=0.2, max_iter=500)</pre></div></div></div></div></div>"
      ],
      "text/plain": [
       "ElasticNet(alpha=0.001, l1_ratio=0.2, max_iter=500)"
      ]
     },
     "execution_count": 27,
     "metadata": {},
     "output_type": "execute_result"
    }
   ],
   "source": [
    "# fit the model \n",
    "elasticnet_model.fit(x_train, y_train)"
   ]
  },
  {
   "cell_type": "code",
   "execution_count": 28,
   "id": "897c842d",
   "metadata": {},
   "outputs": [],
   "source": [
    "# get the predicted values \n",
    "ypred_train_ENET = elasticnet_model.predict(x_train)\n",
    "ypred_test_ENET = elasticnet_model.predict(x_test)"
   ]
  },
  {
   "cell_type": "code",
   "execution_count": 29,
   "id": "d8976b3f",
   "metadata": {},
   "outputs": [],
   "source": [
    "t=pd.Series({\n",
    "        'model_name':'elasticnet lr', \n",
    "        'r2 train':r2_score(y_train, ypred_train_ENET ),\n",
    "        'mse train':mean_squared_error(y_train, ypred_train_ENET ),\n",
    "        'mse test':mean_squared_error(y_test,ypred_test_ENET)\n",
    "    })\n",
    "model_report=model_report.append(t,ignore_index=True)"
   ]
  },
  {
   "cell_type": "markdown",
   "id": "da4761a0",
   "metadata": {},
   "source": [
    "### sfs forward and linear regression "
   ]
  },
  {
   "cell_type": "code",
   "execution_count": 30,
   "id": "ae8f8bf0",
   "metadata": {},
   "outputs": [],
   "source": [
    "from sklearn.model_selection import train_test_split\n",
    "\n",
    "X=df.drop('Selling_Price', axis=1)\n",
    "y=df['Selling_Price']"
   ]
  },
  {
   "cell_type": "code",
   "execution_count": 31,
   "id": "7644e9f6",
   "metadata": {},
   "outputs": [],
   "source": [
    "x_train,x_test,y_train,y_test=train_test_split(X,y,test_size=0.20, random_state=10, shuffle=True)"
   ]
  },
  {
   "cell_type": "code",
   "execution_count": 32,
   "id": "1b620039",
   "metadata": {},
   "outputs": [
    {
     "data": {
      "text/plain": [
       "((240, 8), (61, 8), (240,), (61,))"
      ]
     },
     "execution_count": 32,
     "metadata": {},
     "output_type": "execute_result"
    }
   ],
   "source": [
    "x_train.shape,x_test.shape,y_train.shape,y_test.shape"
   ]
  },
  {
   "cell_type": "code",
   "execution_count": 33,
   "id": "164eb0d7",
   "metadata": {},
   "outputs": [],
   "source": [
    "from sklearn.preprocessing import MinMaxScaler\n",
    "mm = MinMaxScaler()\n",
    "cl= ['Year','Present_Price', 'Driven_kms']\n",
    "x_train[cl] = mm.fit_transform(x_train[cl])\n",
    "x_test[cl]=mm.transform(x_test[cl])"
   ]
  },
  {
   "cell_type": "code",
   "execution_count": null,
   "id": "3542e477",
   "metadata": {},
   "outputs": [],
   "source": []
  },
  {
   "cell_type": "code",
   "execution_count": 34,
   "id": "c63c5803",
   "metadata": {},
   "outputs": [
    {
     "name": "stderr",
     "output_type": "stream",
     "text": [
      "[Parallel(n_jobs=1)]: Using backend SequentialBackend with 1 concurrent workers.\n",
      "[Parallel(n_jobs=1)]: Done   1 out of   1 | elapsed:    0.0s remaining:    0.0s\n",
      "[Parallel(n_jobs=1)]: Done   8 out of   8 | elapsed:    0.0s finished\n",
      "\n",
      "[2023-12-03 12:04:08] Features: 1/8 -- score: 0.7300124024992707[Parallel(n_jobs=1)]: Using backend SequentialBackend with 1 concurrent workers.\n",
      "[Parallel(n_jobs=1)]: Done   1 out of   1 | elapsed:    0.0s remaining:    0.0s\n",
      "[Parallel(n_jobs=1)]: Done   7 out of   7 | elapsed:    0.0s finished\n",
      "\n",
      "[2023-12-03 12:04:08] Features: 2/8 -- score: 0.8197428585916228[Parallel(n_jobs=1)]: Using backend SequentialBackend with 1 concurrent workers.\n",
      "[Parallel(n_jobs=1)]: Done   1 out of   1 | elapsed:    0.0s remaining:    0.0s\n",
      "[Parallel(n_jobs=1)]: Done   6 out of   6 | elapsed:    0.0s finished\n",
      "\n",
      "[2023-12-03 12:04:09] Features: 3/8 -- score: 0.834954047011699[Parallel(n_jobs=1)]: Using backend SequentialBackend with 1 concurrent workers.\n",
      "[Parallel(n_jobs=1)]: Done   1 out of   1 | elapsed:    0.0s remaining:    0.0s\n",
      "[Parallel(n_jobs=1)]: Done   5 out of   5 | elapsed:    0.0s finished\n",
      "\n",
      "[2023-12-03 12:04:09] Features: 4/8 -- score: 0.84161428366367[Parallel(n_jobs=1)]: Using backend SequentialBackend with 1 concurrent workers.\n",
      "[Parallel(n_jobs=1)]: Done   1 out of   1 | elapsed:    0.0s remaining:    0.0s\n",
      "[Parallel(n_jobs=1)]: Done   4 out of   4 | elapsed:    0.0s finished\n",
      "\n",
      "[2023-12-03 12:04:09] Features: 5/8 -- score: 0.8446755131829404[Parallel(n_jobs=1)]: Using backend SequentialBackend with 1 concurrent workers.\n",
      "[Parallel(n_jobs=1)]: Done   1 out of   1 | elapsed:    0.0s remaining:    0.0s\n",
      "[Parallel(n_jobs=1)]: Done   3 out of   3 | elapsed:    0.0s finished\n",
      "\n",
      "[2023-12-03 12:04:09] Features: 6/8 -- score: 0.8429208201176358[Parallel(n_jobs=1)]: Using backend SequentialBackend with 1 concurrent workers.\n",
      "[Parallel(n_jobs=1)]: Done   1 out of   1 | elapsed:    0.0s remaining:    0.0s\n",
      "[Parallel(n_jobs=1)]: Done   2 out of   2 | elapsed:    0.0s finished\n",
      "\n",
      "[2023-12-03 12:04:09] Features: 7/8 -- score: 0.8379777221403637[Parallel(n_jobs=1)]: Using backend SequentialBackend with 1 concurrent workers.\n",
      "[Parallel(n_jobs=1)]: Done   1 out of   1 | elapsed:    0.0s remaining:    0.0s\n",
      "[Parallel(n_jobs=1)]: Done   1 out of   1 | elapsed:    0.0s finished\n",
      "\n",
      "[2023-12-03 12:04:09] Features: 8/8 -- score: 0.8324552542541103"
     ]
    }
   ],
   "source": [
    "lr= LinearRegression()\n",
    "\n",
    "lr_forward = sfs(estimator=lr, k_features ='best', forward=True,\n",
    "                     verbose=2, scoring='r2')\n",
    "\n",
    "\n",
    "sfs_forward = lr_forward.fit(x_train, y_train)"
   ]
  },
  {
   "cell_type": "code",
   "execution_count": 35,
   "id": "be712425",
   "metadata": {},
   "outputs": [
    {
     "data": {
      "text/plain": [
       "('Year', 'Present_Price', 'Fuel_Type', 'Selling_type', 'Transmission')"
      ]
     },
     "execution_count": 35,
     "metadata": {},
     "output_type": "execute_result"
    }
   ],
   "source": [
    "sfs_forward.k_feature_names_"
   ]
  },
  {
   "cell_type": "code",
   "execution_count": 59,
   "id": "21fa2f5d",
   "metadata": {},
   "outputs": [],
   "source": []
  },
  {
   "cell_type": "code",
   "execution_count": 36,
   "id": "353ebae3",
   "metadata": {},
   "outputs": [],
   "source": [
    "xtrain=x_train.loc[:,sfs_forward.k_feature_names_]\n",
    "xtest=x_test.loc[:,sfs_forward.k_feature_names_]"
   ]
  },
  {
   "cell_type": "code",
   "execution_count": 37,
   "id": "80206cb1",
   "metadata": {},
   "outputs": [],
   "source": [
    "lr_model_sfs = lr.fit(xtrain,y_train)\n",
    "ypred_train_lr_sfs = lr_model_sfs.predict(xtrain)\n",
    "ypred_test_lr_sfs = lr_model_sfs.predict(xtest)"
   ]
  },
  {
   "cell_type": "code",
   "execution_count": 38,
   "id": "08d2e1b4",
   "metadata": {},
   "outputs": [],
   "source": [
    "t=pd.Series({\n",
    "        'model_name':'sfs_fr lr', \n",
    "        'r2 train':r2_score(y_train, ypred_train_lr_sfs ),\n",
    "        'mse train':mean_squared_error(y_train, ypred_train_lr_sfs ),\n",
    "        'mse test':mean_squared_error(y_test, ypred_test_lr_sfs  )\n",
    "    })\n",
    "model_report=model_report.append(t,ignore_index=True)"
   ]
  },
  {
   "cell_type": "code",
   "execution_count": 39,
   "id": "33c0ef6e",
   "metadata": {},
   "outputs": [
    {
     "data": {
      "text/html": [
       "<div>\n",
       "<style scoped>\n",
       "    .dataframe tbody tr th:only-of-type {\n",
       "        vertical-align: middle;\n",
       "    }\n",
       "\n",
       "    .dataframe tbody tr th {\n",
       "        vertical-align: top;\n",
       "    }\n",
       "\n",
       "    .dataframe thead th {\n",
       "        text-align: right;\n",
       "    }\n",
       "</style>\n",
       "<table border=\"1\" class=\"dataframe\">\n",
       "  <thead>\n",
       "    <tr style=\"text-align: right;\">\n",
       "      <th></th>\n",
       "      <th>model_name</th>\n",
       "      <th>r2 train</th>\n",
       "      <th>mse train</th>\n",
       "      <th>mse test</th>\n",
       "    </tr>\n",
       "  </thead>\n",
       "  <tbody>\n",
       "    <tr>\n",
       "      <th>0</th>\n",
       "      <td>LR</td>\n",
       "      <td>0.884072</td>\n",
       "      <td>2.787046</td>\n",
       "      <td>5.068282</td>\n",
       "    </tr>\n",
       "    <tr>\n",
       "      <th>1</th>\n",
       "      <td>knnR</td>\n",
       "      <td>0.807263</td>\n",
       "      <td>4.633634</td>\n",
       "      <td>4.007949</td>\n",
       "    </tr>\n",
       "    <tr>\n",
       "      <th>2</th>\n",
       "      <td>decisiontreeR</td>\n",
       "      <td>1.000000</td>\n",
       "      <td>0.000000</td>\n",
       "      <td>2.812910</td>\n",
       "    </tr>\n",
       "    <tr>\n",
       "      <th>3</th>\n",
       "      <td>randomforestR</td>\n",
       "      <td>0.981450</td>\n",
       "      <td>0.445957</td>\n",
       "      <td>2.678047</td>\n",
       "    </tr>\n",
       "    <tr>\n",
       "      <th>4</th>\n",
       "      <td>gradientboostR</td>\n",
       "      <td>0.995845</td>\n",
       "      <td>0.099894</td>\n",
       "      <td>1.801859</td>\n",
       "    </tr>\n",
       "    <tr>\n",
       "      <th>5</th>\n",
       "      <td>xgboostR</td>\n",
       "      <td>0.999998</td>\n",
       "      <td>0.000056</td>\n",
       "      <td>1.873418</td>\n",
       "    </tr>\n",
       "    <tr>\n",
       "      <th>6</th>\n",
       "      <td>ridge lr</td>\n",
       "      <td>0.882146</td>\n",
       "      <td>2.833359</td>\n",
       "      <td>5.082249</td>\n",
       "    </tr>\n",
       "    <tr>\n",
       "      <th>7</th>\n",
       "      <td>lasso lr</td>\n",
       "      <td>0.882146</td>\n",
       "      <td>2.833359</td>\n",
       "      <td>5.082249</td>\n",
       "    </tr>\n",
       "    <tr>\n",
       "      <th>8</th>\n",
       "      <td>elasticnet lr</td>\n",
       "      <td>0.877775</td>\n",
       "      <td>2.938440</td>\n",
       "      <td>5.155591</td>\n",
       "    </tr>\n",
       "    <tr>\n",
       "      <th>9</th>\n",
       "      <td>sfs_fr lr</td>\n",
       "      <td>0.879065</td>\n",
       "      <td>2.907436</td>\n",
       "      <td>4.717534</td>\n",
       "    </tr>\n",
       "  </tbody>\n",
       "</table>\n",
       "</div>"
      ],
      "text/plain": [
       "       model_name  r2 train  mse train  mse test\n",
       "0              LR  0.884072   2.787046  5.068282\n",
       "1            knnR  0.807263   4.633634  4.007949\n",
       "2   decisiontreeR  1.000000   0.000000  2.812910\n",
       "3   randomforestR  0.981450   0.445957  2.678047\n",
       "4  gradientboostR  0.995845   0.099894  1.801859\n",
       "5        xgboostR  0.999998   0.000056  1.873418\n",
       "6        ridge lr  0.882146   2.833359  5.082249\n",
       "7        lasso lr  0.882146   2.833359  5.082249\n",
       "8   elasticnet lr  0.877775   2.938440  5.155591\n",
       "9       sfs_fr lr  0.879065   2.907436  4.717534"
      ]
     },
     "execution_count": 39,
     "metadata": {},
     "output_type": "execute_result"
    }
   ],
   "source": [
    "model_report"
   ]
  },
  {
   "cell_type": "markdown",
   "id": "109acdb9",
   "metadata": {},
   "source": [
    "### sfs backward with linear regression"
   ]
  },
  {
   "cell_type": "code",
   "execution_count": 40,
   "id": "5aa1003b",
   "metadata": {},
   "outputs": [],
   "source": [
    "from sklearn.model_selection import train_test_split\n",
    "\n",
    "X=df.drop('Selling_Price', axis=1)\n",
    "y=df['Selling_Price']"
   ]
  },
  {
   "cell_type": "code",
   "execution_count": 41,
   "id": "b6454cbb",
   "metadata": {},
   "outputs": [],
   "source": [
    "x_train,x_test,y_train,y_test=train_test_split(X,y,test_size=0.20, random_state=10, shuffle=True)"
   ]
  },
  {
   "cell_type": "code",
   "execution_count": 42,
   "id": "c85d4c9f",
   "metadata": {},
   "outputs": [],
   "source": [
    "from sklearn.preprocessing import MinMaxScaler\n",
    "mm = MinMaxScaler()\n",
    "cl= ['Year','Present_Price', 'Driven_kms']\n",
    "x_train[cl] = mm.fit_transform(x_train[cl])\n",
    "x_test[cl]=mm.transform(x_test[cl])"
   ]
  },
  {
   "cell_type": "markdown",
   "id": "fc4afe8a",
   "metadata": {},
   "source": []
  },
  {
   "cell_type": "code",
   "execution_count": 43,
   "id": "c8096773",
   "metadata": {},
   "outputs": [
    {
     "name": "stderr",
     "output_type": "stream",
     "text": [
      "[Parallel(n_jobs=1)]: Using backend SequentialBackend with 1 concurrent workers.\n",
      "[Parallel(n_jobs=1)]: Done   1 out of   1 | elapsed:    0.0s remaining:    0.0s\n",
      "[Parallel(n_jobs=1)]: Done   8 out of   8 | elapsed:    0.0s finished\n",
      "\n",
      "[2023-12-03 12:05:08] Features: 7/1 -- score: 0.8379777221403637[Parallel(n_jobs=1)]: Using backend SequentialBackend with 1 concurrent workers.\n",
      "[Parallel(n_jobs=1)]: Done   1 out of   1 | elapsed:    0.0s remaining:    0.0s\n",
      "[Parallel(n_jobs=1)]: Done   7 out of   7 | elapsed:    0.0s finished\n",
      "\n",
      "[2023-12-03 12:05:08] Features: 6/1 -- score: 0.8429208201176358[Parallel(n_jobs=1)]: Using backend SequentialBackend with 1 concurrent workers.\n",
      "[Parallel(n_jobs=1)]: Done   1 out of   1 | elapsed:    0.0s remaining:    0.0s\n",
      "[Parallel(n_jobs=1)]: Done   6 out of   6 | elapsed:    0.0s finished\n",
      "\n",
      "[2023-12-03 12:05:08] Features: 5/1 -- score: 0.8446755131829404[Parallel(n_jobs=1)]: Using backend SequentialBackend with 1 concurrent workers.\n",
      "[Parallel(n_jobs=1)]: Done   1 out of   1 | elapsed:    0.0s remaining:    0.0s\n",
      "[Parallel(n_jobs=1)]: Done   5 out of   5 | elapsed:    0.0s finished\n",
      "\n",
      "[2023-12-03 12:05:08] Features: 4/1 -- score: 0.84161428366367[Parallel(n_jobs=1)]: Using backend SequentialBackend with 1 concurrent workers.\n",
      "[Parallel(n_jobs=1)]: Done   1 out of   1 | elapsed:    0.0s remaining:    0.0s\n",
      "[Parallel(n_jobs=1)]: Done   4 out of   4 | elapsed:    0.0s finished\n",
      "\n",
      "[2023-12-03 12:05:08] Features: 3/1 -- score: 0.834954047011699[Parallel(n_jobs=1)]: Using backend SequentialBackend with 1 concurrent workers.\n",
      "[Parallel(n_jobs=1)]: Done   1 out of   1 | elapsed:    0.0s remaining:    0.0s\n",
      "[Parallel(n_jobs=1)]: Done   3 out of   3 | elapsed:    0.0s finished\n",
      "\n",
      "[2023-12-03 12:05:08] Features: 2/1 -- score: 0.8197428585916228[Parallel(n_jobs=1)]: Using backend SequentialBackend with 1 concurrent workers.\n",
      "[Parallel(n_jobs=1)]: Done   1 out of   1 | elapsed:    0.0s remaining:    0.0s\n",
      "[Parallel(n_jobs=1)]: Done   2 out of   2 | elapsed:    0.0s finished\n",
      "\n",
      "[2023-12-03 12:05:08] Features: 1/1 -- score: 0.7300124024992707"
     ]
    }
   ],
   "source": [
    "lr= LinearRegression()\n",
    "\n",
    "lr_backward = sfs(estimator=lr, k_features ='best', forward=False,\n",
    "                     verbose=2, scoring='r2')\n",
    "\n",
    "\n",
    "sfs_backward = lr_backward.fit(x_train, y_train)"
   ]
  },
  {
   "cell_type": "code",
   "execution_count": 44,
   "id": "57889737",
   "metadata": {},
   "outputs": [
    {
     "data": {
      "text/plain": [
       "('Year', 'Present_Price', 'Fuel_Type', 'Selling_type', 'Transmission')"
      ]
     },
     "execution_count": 44,
     "metadata": {},
     "output_type": "execute_result"
    }
   ],
   "source": [
    "sfs_backward.k_feature_names_ "
   ]
  },
  {
   "cell_type": "code",
   "execution_count": 45,
   "id": "bbccc5b8",
   "metadata": {},
   "outputs": [],
   "source": [
    "xtrain=x_train.loc[:,sfs_forward.k_feature_names_]\n",
    "xtest=x_test.loc[:,sfs_forward.k_feature_names_]"
   ]
  },
  {
   "cell_type": "code",
   "execution_count": 47,
   "id": "e0ae8063",
   "metadata": {},
   "outputs": [],
   "source": [
    "lr_model_sfs_bc = lr.fit(xtrain,y_train)\n",
    "ypred_train_lr_sfs_bc = lr_model_sfs_bc.predict(xtrain)\n",
    "ypred_test_lr_sfs_bc= lr_model_sfs_bc.predict(xtest)"
   ]
  },
  {
   "cell_type": "code",
   "execution_count": 49,
   "id": "fce6ef18",
   "metadata": {},
   "outputs": [],
   "source": [
    "t=pd.Series({\n",
    "        'model_name':'sfs_bc lr', \n",
    "        'r2 train':r2_score(y_train, ypred_train_lr_sfs_bc ),\n",
    "        'mse train':mean_squared_error(y_train, ypred_train_lr_sfs_bc ),\n",
    "        'mse test':mean_squared_error(y_test, ypred_test_lr_sfs_bc  )\n",
    "    })\n",
    "model_report=model_report.append(t,ignore_index=True)"
   ]
  },
  {
   "cell_type": "code",
   "execution_count": 50,
   "id": "2e3ee725",
   "metadata": {},
   "outputs": [
    {
     "data": {
      "text/html": [
       "<div>\n",
       "<style scoped>\n",
       "    .dataframe tbody tr th:only-of-type {\n",
       "        vertical-align: middle;\n",
       "    }\n",
       "\n",
       "    .dataframe tbody tr th {\n",
       "        vertical-align: top;\n",
       "    }\n",
       "\n",
       "    .dataframe thead th {\n",
       "        text-align: right;\n",
       "    }\n",
       "</style>\n",
       "<table border=\"1\" class=\"dataframe\">\n",
       "  <thead>\n",
       "    <tr style=\"text-align: right;\">\n",
       "      <th></th>\n",
       "      <th>model_name</th>\n",
       "      <th>r2 train</th>\n",
       "      <th>mse train</th>\n",
       "      <th>mse test</th>\n",
       "    </tr>\n",
       "  </thead>\n",
       "  <tbody>\n",
       "    <tr>\n",
       "      <th>0</th>\n",
       "      <td>LR</td>\n",
       "      <td>0.884072</td>\n",
       "      <td>2.787046</td>\n",
       "      <td>5.068282</td>\n",
       "    </tr>\n",
       "    <tr>\n",
       "      <th>1</th>\n",
       "      <td>knnR</td>\n",
       "      <td>0.807263</td>\n",
       "      <td>4.633634</td>\n",
       "      <td>4.007949</td>\n",
       "    </tr>\n",
       "    <tr>\n",
       "      <th>2</th>\n",
       "      <td>decisiontreeR</td>\n",
       "      <td>1.000000</td>\n",
       "      <td>0.000000</td>\n",
       "      <td>2.812910</td>\n",
       "    </tr>\n",
       "    <tr>\n",
       "      <th>3</th>\n",
       "      <td>randomforestR</td>\n",
       "      <td>0.981450</td>\n",
       "      <td>0.445957</td>\n",
       "      <td>2.678047</td>\n",
       "    </tr>\n",
       "    <tr>\n",
       "      <th>4</th>\n",
       "      <td>gradientboostR</td>\n",
       "      <td>0.995845</td>\n",
       "      <td>0.099894</td>\n",
       "      <td>1.801859</td>\n",
       "    </tr>\n",
       "    <tr>\n",
       "      <th>5</th>\n",
       "      <td>xgboostR</td>\n",
       "      <td>0.999998</td>\n",
       "      <td>0.000056</td>\n",
       "      <td>1.873418</td>\n",
       "    </tr>\n",
       "    <tr>\n",
       "      <th>6</th>\n",
       "      <td>ridge lr</td>\n",
       "      <td>0.882146</td>\n",
       "      <td>2.833359</td>\n",
       "      <td>5.082249</td>\n",
       "    </tr>\n",
       "    <tr>\n",
       "      <th>7</th>\n",
       "      <td>lasso lr</td>\n",
       "      <td>0.882146</td>\n",
       "      <td>2.833359</td>\n",
       "      <td>5.082249</td>\n",
       "    </tr>\n",
       "    <tr>\n",
       "      <th>8</th>\n",
       "      <td>elasticnet lr</td>\n",
       "      <td>0.877775</td>\n",
       "      <td>2.938440</td>\n",
       "      <td>5.155591</td>\n",
       "    </tr>\n",
       "    <tr>\n",
       "      <th>9</th>\n",
       "      <td>sfs_fr lr</td>\n",
       "      <td>0.879065</td>\n",
       "      <td>2.907436</td>\n",
       "      <td>4.717534</td>\n",
       "    </tr>\n",
       "    <tr>\n",
       "      <th>10</th>\n",
       "      <td>sfs_bc lr</td>\n",
       "      <td>0.879065</td>\n",
       "      <td>2.907436</td>\n",
       "      <td>4.717534</td>\n",
       "    </tr>\n",
       "  </tbody>\n",
       "</table>\n",
       "</div>"
      ],
      "text/plain": [
       "        model_name  r2 train  mse train  mse test\n",
       "0               LR  0.884072   2.787046  5.068282\n",
       "1             knnR  0.807263   4.633634  4.007949\n",
       "2    decisiontreeR  1.000000   0.000000  2.812910\n",
       "3    randomforestR  0.981450   0.445957  2.678047\n",
       "4   gradientboostR  0.995845   0.099894  1.801859\n",
       "5         xgboostR  0.999998   0.000056  1.873418\n",
       "6         ridge lr  0.882146   2.833359  5.082249\n",
       "7         lasso lr  0.882146   2.833359  5.082249\n",
       "8    elasticnet lr  0.877775   2.938440  5.155591\n",
       "9        sfs_fr lr  0.879065   2.907436  4.717534\n",
       "10       sfs_bc lr  0.879065   2.907436  4.717534"
      ]
     },
     "execution_count": 50,
     "metadata": {},
     "output_type": "execute_result"
    }
   ],
   "source": [
    "model_report"
   ]
  },
  {
   "cell_type": "code",
   "execution_count": null,
   "id": "a792b114",
   "metadata": {},
   "outputs": [],
   "source": [
    "Gradient Boosting Regression can be considered the best model. "
   ]
  },
  {
   "cell_type": "markdown",
   "id": "768c48b5",
   "metadata": {},
   "source": [
    "## Gradient Boosting Regression - with all features"
   ]
  },
  {
   "cell_type": "code",
   "execution_count": 82,
   "id": "c2dfbe83",
   "metadata": {},
   "outputs": [],
   "source": [
    "from sklearn.model_selection import train_test_split\n",
    "\n",
    "X=df.drop('Selling_Price', axis=1)\n",
    "y=df['Selling_Price']"
   ]
  },
  {
   "cell_type": "code",
   "execution_count": 83,
   "id": "70645255",
   "metadata": {},
   "outputs": [],
   "source": [
    "x_train,x_test,y_train,y_test=train_test_split(X,y,test_size=0.20, random_state=10, shuffle=True)"
   ]
  },
  {
   "cell_type": "code",
   "execution_count": 84,
   "id": "3d46bbae",
   "metadata": {},
   "outputs": [],
   "source": [
    "from sklearn.preprocessing import MinMaxScaler\n",
    "mm = MinMaxScaler()\n",
    "cl= ['Year','Present_Price', 'Driven_kms']\n",
    "x_train[cl] = mm.fit_transform(x_train[cl])\n",
    "x_test[cl]=mm.transform(x_test[cl])"
   ]
  },
  {
   "cell_type": "code",
   "execution_count": 85,
   "id": "c4ee46c9",
   "metadata": {},
   "outputs": [],
   "source": [
    "gbr=GradientBoostingRegressor()\n",
    "gbr.fit(x_train,y_train)\n",
    "y_pred_train=gbr.predict(x_train)\n",
    "y_pred_test=gbr.predict(x_test)"
   ]
  },
  {
   "cell_type": "code",
   "execution_count": 88,
   "id": "2596e012",
   "metadata": {},
   "outputs": [
    {
     "name": "stdout",
     "output_type": "stream",
     "text": [
      "r2 train= 0.9958448891637729 \n",
      "\n",
      " mse train= 0.09989405024713811 \n",
      "\n",
      " mse test= 1.7771695803783618\n"
     ]
    }
   ],
   "source": [
    "print('r2 train=',r2_score(y_train,y_pred_train), '\\n\\n',\n",
    "'mse train=', mean_squared_error(y_train,y_pred_train), '\\n\\n',\n",
    "'mse test=', mean_squared_error(y_test,y_pred_test))"
   ]
  },
  {
   "cell_type": "markdown",
   "id": "d993021d",
   "metadata": {},
   "source": [
    "# Gradient Boosting Regression - with sfs backward features¶"
   ]
  },
  {
   "cell_type": "code",
   "execution_count": 170,
   "id": "df4c063e",
   "metadata": {},
   "outputs": [
    {
     "name": "stderr",
     "output_type": "stream",
     "text": [
      "[Parallel(n_jobs=1)]: Using backend SequentialBackend with 1 concurrent workers.\n",
      "[Parallel(n_jobs=1)]: Done   1 out of   1 | elapsed:    0.4s remaining:    0.0s\n",
      "[Parallel(n_jobs=1)]: Done   9 out of   9 | elapsed:    4.1s finished\n",
      "\n",
      "[2023-12-03 13:13:50] Features: 8/1 -- score: 0.8823837840583174[Parallel(n_jobs=1)]: Using backend SequentialBackend with 1 concurrent workers.\n",
      "[Parallel(n_jobs=1)]: Done   1 out of   1 | elapsed:    0.4s remaining:    0.0s\n",
      "[Parallel(n_jobs=1)]: Done   8 out of   8 | elapsed:    3.6s finished\n",
      "\n",
      "[2023-12-03 13:13:54] Features: 7/1 -- score: 0.8822475009670875[Parallel(n_jobs=1)]: Using backend SequentialBackend with 1 concurrent workers.\n",
      "[Parallel(n_jobs=1)]: Done   1 out of   1 | elapsed:    0.4s remaining:    0.0s\n",
      "[Parallel(n_jobs=1)]: Done   7 out of   7 | elapsed:    3.1s finished\n",
      "\n",
      "[2023-12-03 13:13:57] Features: 6/1 -- score: 0.8825038302450696[Parallel(n_jobs=1)]: Using backend SequentialBackend with 1 concurrent workers.\n",
      "[Parallel(n_jobs=1)]: Done   1 out of   1 | elapsed:    0.4s remaining:    0.0s\n",
      "[Parallel(n_jobs=1)]: Done   6 out of   6 | elapsed:    2.6s finished\n",
      "\n",
      "[2023-12-03 13:14:00] Features: 5/1 -- score: 0.8732633254880213[Parallel(n_jobs=1)]: Using backend SequentialBackend with 1 concurrent workers.\n",
      "[Parallel(n_jobs=1)]: Done   1 out of   1 | elapsed:    0.4s remaining:    0.0s\n",
      "[Parallel(n_jobs=1)]: Done   5 out of   5 | elapsed:    2.1s finished\n",
      "\n",
      "[2023-12-03 13:14:02] Features: 4/1 -- score: 0.8763324158172834[Parallel(n_jobs=1)]: Using backend SequentialBackend with 1 concurrent workers.\n",
      "[Parallel(n_jobs=1)]: Done   1 out of   1 | elapsed:    0.4s remaining:    0.0s\n",
      "[Parallel(n_jobs=1)]: Done   4 out of   4 | elapsed:    1.6s finished\n",
      "\n",
      "[2023-12-03 13:14:04] Features: 3/1 -- score: 0.8627570309540141[Parallel(n_jobs=1)]: Using backend SequentialBackend with 1 concurrent workers.\n",
      "[Parallel(n_jobs=1)]: Done   1 out of   1 | elapsed:    0.3s remaining:    0.0s\n",
      "[Parallel(n_jobs=1)]: Done   3 out of   3 | elapsed:    1.1s finished\n",
      "\n",
      "[2023-12-03 13:14:05] Features: 2/1 -- score: 0.8367567257474107[Parallel(n_jobs=1)]: Using backend SequentialBackend with 1 concurrent workers.\n",
      "[Parallel(n_jobs=1)]: Done   1 out of   1 | elapsed:    0.2s remaining:    0.0s\n",
      "[Parallel(n_jobs=1)]: Done   2 out of   2 | elapsed:    0.6s finished\n",
      "\n",
      "[2023-12-03 13:14:06] Features: 1/1 -- score: 0.6976501104775256"
     ]
    }
   ],
   "source": [
    "gbr=GradientBoostingRegressor()\n",
    "\n",
    "lr_backward = sfs(estimator=gbr, k_features ='best', forward=False,\n",
    "                     verbose=2, scoring='r2')\n",
    "\n",
    "\n",
    "sfs_backward = lr_backward.fit(x_train, y_train)"
   ]
  },
  {
   "cell_type": "code",
   "execution_count": 171,
   "id": "e06f32c9",
   "metadata": {},
   "outputs": [
    {
     "data": {
      "text/plain": [
       "('Year',\n",
       " 'Present_Price',\n",
       " 'Fuel_Type_Diesel',\n",
       " 'Selling_type_Dealer',\n",
       " 'Selling_type_Individual',\n",
       " 'Transmission_Automatic')"
      ]
     },
     "execution_count": 171,
     "metadata": {},
     "output_type": "execute_result"
    }
   ],
   "source": [
    "sfs_backward.k_feature_names_ "
   ]
  },
  {
   "cell_type": "code",
   "execution_count": 174,
   "id": "294f45d7",
   "metadata": {},
   "outputs": [],
   "source": [
    "from sklearn.model_selection import train_test_split\n",
    "\n",
    "X=x.loc[:,['Year',\n",
    " 'Present_Price',\n",
    " 'Fuel_Type_Diesel',\n",
    " 'Selling_type_Dealer',\n",
    " 'Selling_type_Individual',\n",
    " 'Transmission_Automatic']]\n",
    "y=df['Selling_Price']"
   ]
  },
  {
   "cell_type": "code",
   "execution_count": 310,
   "id": "b5d94115",
   "metadata": {},
   "outputs": [],
   "source": [
    "x_train,x_test,y_train,y_test=train_test_split(x,y,test_size=0.20,random_state=36)"
   ]
  },
  {
   "cell_type": "code",
   "execution_count": 311,
   "id": "87a89dd9",
   "metadata": {},
   "outputs": [],
   "source": [
    "from sklearn.preprocessing import MinMaxScaler\n",
    "mm = MinMaxScaler()\n",
    "cl= ['Year','Present_Price',]\n",
    "x_train[cl] = mm.fit_transform(x_train[cl])\n",
    "x_test[cl]=mm.transform(x_test[cl])"
   ]
  },
  {
   "cell_type": "code",
   "execution_count": 268,
   "id": "7d987475",
   "metadata": {},
   "outputs": [],
   "source": [
    "gbr=GradientBoostingRegressor()\n",
    "gbr.fit(x_train,y_train)\n",
    "y_pred_train=gbr.predict(x_train)\n",
    "y_pred_test=gbr.predict(x_test)"
   ]
  },
  {
   "cell_type": "code",
   "execution_count": 269,
   "id": "74eeb812",
   "metadata": {},
   "outputs": [
    {
     "name": "stdout",
     "output_type": "stream",
     "text": [
      "r2 train= 0.9950944911706967 \n",
      "\n",
      " mse train= 0.13374732910854903 \n",
      "\n",
      " mse test= 0.47442562431695745\n"
     ]
    }
   ],
   "source": [
    "print('r2 train=',r2_score(y_train,y_pred_train), '\\n\\n',\n",
    "'mse train=', mean_squared_error(y_train,y_pred_train), '\\n\\n',\n",
    "'mse test=', mean_squared_error(y_test,y_pred_test))"
   ]
  },
  {
   "cell_type": "code",
   "execution_count": 96,
   "id": "20220184",
   "metadata": {},
   "outputs": [
    {
     "name": "stdout",
     "output_type": "stream",
     "text": [
      "Best Hyperparameters: {'learning_rate': 0.6, 'max_depth': 3, 'n_estimators': 100}\n",
      "r2 train: 0.9958448891637729 mse train: 0.09989405024713811 mse test: 1.7771695803783618\n"
     ]
    }
   ],
   "source": [
    "# Define the Gradient Boosting Regressor\n",
    "gb_regressor = GradientBoostingRegressor()\n",
    "\n",
    "# Hyperparameter tuning using GridSearchCV\n",
    "param_grid = {'n_estimators': [5,7,10,13,15,20,50,25,75,100,125,150,200],\n",
    "    'learning_rate': [0.01, 0.1,.003,.03,0.4,0.5,0.6,0.7,0.8,0.9,.3,0.2,1,2],\n",
    "    'max_depth': [3,4, 5,7,9]}\n",
    "\n",
    "grid_search = GridSearchCV(gb_regressor, param_grid, cv=5, scoring='neg_mean_squared_error')\n",
    "grid_search.fit(x_train, y_train)\n",
    "\n",
    "# Print the best hyperparameters\n",
    "print(\"Best Hyperparameters:\", grid_search.best_params_)\n",
    "\n",
    "# Train the model with the best hyperparameters\n",
    "best_gb_model = grid_search.best_estimator_\n",
    "best_gb_model.fit(x_train, y_train)\n",
    "\n",
    "# Make predictions on the test set\n",
    "y_pred_train=gbr.predict(x_train)\n",
    "y_pred_test=gbr.predict(x_test)\n",
    "\n",
    "print('r2 train:',r2_score(y_train,y_pred_train), \n",
    "       'mse train:', mean_squared_error(y_train,y_pred_train),\n",
    "    \"mse test:\", mean_squared_error(y_test, y_pred_test))"
   ]
  },
  {
   "cell_type": "code",
   "execution_count": 314,
   "id": "0abcae60",
   "metadata": {},
   "outputs": [],
   "source": [
    "gbr=GradientBoostingRegressor(learning_rate= 0.6, max_depth= 3, n_estimators= 100)\n",
    "gbr.fit(x_train,y_train)\n",
    "y_pred_train=gbr.predict(x_train)\n",
    "y_pred_test=gbr.predict(x_test)"
   ]
  },
  {
   "cell_type": "code",
   "execution_count": 315,
   "id": "1a99aa95",
   "metadata": {},
   "outputs": [
    {
     "name": "stdout",
     "output_type": "stream",
     "text": [
      "r2 train= 0.9987087805195985 \n",
      "\n",
      " mse train= 0.035204738755133316 \n",
      "\n",
      " mse test= 0.54750067803678\n"
     ]
    }
   ],
   "source": [
    "print('r2 train=',r2_score(y_train,y_pred_train), '\\n\\n',\n",
    "'mse train=', mean_squared_error(y_train,y_pred_train), '\\n\\n',\n",
    "'mse test=', mean_squared_error(y_test,y_pred_test))"
   ]
  },
  {
   "cell_type": "code",
   "execution_count": 318,
   "id": "5cd93fe1",
   "metadata": {
    "scrolled": false
   },
   "outputs": [
    {
     "data": {
      "image/png": "[encoded data removed]",
      "text/plain": [
       "<Figure size 640x480 with 1 Axes>"
      ]
     },
     "metadata": {},
     "output_type": "display_data"
    }
   ],
   "source": [
    "\n",
    "# Check for anomalies in the test set\n",
    "# Visualize the predictions and actual values to identify patterns\n",
    "plt.scatter(y_test,y_pred_test)\n",
    "plt.xlabel(\"Actual Values\")\n",
    "plt.ylabel(\"Predicted Values\")\n",
    "plt.title(\"Actual vs Predicted Values\")\n",
    "plt.show()"
   ]
  },
  {
   "cell_type": "code",
   "execution_count": 319,
   "id": "4c378d60",
   "metadata": {},
   "outputs": [
    {
     "data": {
      "image/png": "[encoded data removed]",
      "text/plain": [
       "<Figure size 640x480 with 1 Axes>"
      ]
     },
     "metadata": {},
     "output_type": "display_data"
    }
   ],
   "source": [
    "# Calculate residuals\n",
    "residuals = y_test - y_pred_test\n",
    "\n",
    "# Plot residuals\n",
    "plt.scatter(y_pred_test, residuals)\n",
    "plt.axhline(y=0, color='r', linestyle='--')\n",
    "plt.xlabel('Predicted Values')\n",
    "plt.ylabel('Residuals')\n",
    "plt.title('Residual Plot')\n",
    "plt.show()"
   ]
  },
  {
   "cell_type": "code",
   "execution_count": null,
   "id": "6eb2f80f",
   "metadata": {},
   "outputs": [],
   "source": []
  },
  {
   "cell_type": "markdown",
   "id": "5fd7d1ce",
   "metadata": {},
   "source": [
    "# approach 2 - with more combining of catgeories in the columns\n"
   ]
  },
  {
   "cell_type": "code",
   "execution_count": 403,
   "id": "bf790fd5",
   "metadata": {},
   "outputs": [],
   "source": [
    "df=data.copy()"
   ]
  },
  {
   "cell_type": "code",
   "execution_count": 404,
   "id": "8fe9b816",
   "metadata": {},
   "outputs": [
    {
     "data": {
      "text/plain": [
       "Petrol    239\n",
       "Diesel     60\n",
       "CNG         2\n",
       "Name: Fuel_Type, dtype: int64"
      ]
     },
     "execution_count": 404,
     "metadata": {},
     "output_type": "execute_result"
    }
   ],
   "source": [
    "df['Fuel_Type'].value_counts()"
   ]
  },
  {
   "cell_type": "code",
   "execution_count": 405,
   "id": "b8e27bf7",
   "metadata": {},
   "outputs": [
    {
     "data": {
      "text/plain": [
       "Fuel_Type\n",
       "CNG        3.100000\n",
       "Diesel    10.278500\n",
       "Petrol     3.264184\n",
       "Name: Selling_Price, dtype: float64"
      ]
     },
     "execution_count": 405,
     "metadata": {},
     "output_type": "execute_result"
    }
   ],
   "source": [
    "df.groupby('Fuel_Type')['Selling_Price'].mean()"
   ]
  },
  {
   "cell_type": "code",
   "execution_count": 406,
   "id": "d6f8f0cb",
   "metadata": {},
   "outputs": [],
   "source": [
    "# from the mean of selling price petrol and CNG can be combined. \n",
    "df['Fuel_Type']=df['Fuel_Type'].replace('CNG','Petrol')\n"
   ]
  },
  {
   "cell_type": "code",
   "execution_count": 407,
   "id": "4c1c7b81",
   "metadata": {},
   "outputs": [
    {
     "data": {
      "text/plain": [
       "0    290\n",
       "1     10\n",
       "3      1\n",
       "Name: Owner, dtype: int64"
      ]
     },
     "execution_count": 407,
     "metadata": {},
     "output_type": "execute_result"
    }
   ],
   "source": [
    "df['Owner'].value_counts()"
   ]
  },
  {
   "cell_type": "code",
   "execution_count": 408,
   "id": "270cc453",
   "metadata": {},
   "outputs": [
    {
     "data": {
      "text/plain": [
       "Owner\n",
       "0    4.761552\n",
       "1    1.970000\n",
       "3    2.500000\n",
       "Name: Selling_Price, dtype: float64"
      ]
     },
     "execution_count": 408,
     "metadata": {},
     "output_type": "execute_result"
    }
   ],
   "source": [
    "df.groupby('Owner')['Selling_Price'].mean()"
   ]
  },
  {
   "cell_type": "code",
   "execution_count": 409,
   "id": "a0803061",
   "metadata": {},
   "outputs": [],
   "source": [
    "# from the mean of selling price one and three can be combined. \n",
    "df['Owner']=df['Owner'].replace(3,1)"
   ]
  },
  {
   "cell_type": "code",
   "execution_count": 410,
   "id": "01406455",
   "metadata": {},
   "outputs": [
    {
     "data": {
      "text/plain": [
       "0    290\n",
       "1     11\n",
       "Name: Owner, dtype: int64"
      ]
     },
     "execution_count": 410,
     "metadata": {},
     "output_type": "execute_result"
    }
   ],
   "source": [
    "df['Owner'].value_counts()"
   ]
  },
  {
   "cell_type": "code",
   "execution_count": 411,
   "id": "dbe878cb",
   "metadata": {
    "scrolled": true
   },
   "outputs": [
    {
     "data": {
      "text/plain": [
       "Int64Index([2015, 2016, 2014, 2017, 2013, 2012, 2011, 2010, 2008, 2009, 2006,\n",
       "            2005, 2003, 2007, 2018, 2004],\n",
       "           dtype='int64')"
      ]
     },
     "execution_count": 411,
     "metadata": {},
     "output_type": "execute_result"
    }
   ],
   "source": [
    "df['Year'].value_counts().index"
   ]
  },
  {
   "cell_type": "code",
   "execution_count": 412,
   "id": "8ca7f178",
   "metadata": {},
   "outputs": [],
   "source": [
    "def year_sales(x):\n",
    "    for x in [2015, 2016, 2014, 2017, 2013, 2012, 2011, 2010]:\n",
    "        return 'high sales years'\n",
    "    else:\n",
    "        return 'low sales years'\n",
    "\n",
    "# Apply the function to each element in the 'Year' column\n",
    "df['Year_Category'] = df['Year'].apply(year_sales)"
   ]
  },
  {
   "cell_type": "code",
   "execution_count": 413,
   "id": "611f34cc",
   "metadata": {},
   "outputs": [],
   "source": [
    "def year_category(x):\n",
    "    if x < 2010:\n",
    "        return 'before 2010'\n",
    "    else:\n",
    "        return 'after 2010'\n",
    "\n",
    "# Apply the function to each element in the 'Year' column\n",
    "df['Year_Category'] = df['Year'].apply(year_category)\n"
   ]
  },
  {
   "cell_type": "code",
   "execution_count": 414,
   "id": "b06a1d3b",
   "metadata": {},
   "outputs": [
    {
     "data": {
      "text/html": [
       "<div>\n",
       "<style scoped>\n",
       "    .dataframe tbody tr th:only-of-type {\n",
       "        vertical-align: middle;\n",
       "    }\n",
       "\n",
       "    .dataframe tbody tr th {\n",
       "        vertical-align: top;\n",
       "    }\n",
       "\n",
       "    .dataframe thead th {\n",
       "        text-align: right;\n",
       "    }\n",
       "</style>\n",
       "<table border=\"1\" class=\"dataframe\">\n",
       "  <thead>\n",
       "    <tr style=\"text-align: right;\">\n",
       "      <th></th>\n",
       "      <th>Car_Name</th>\n",
       "      <th>Year</th>\n",
       "      <th>Selling_Price</th>\n",
       "      <th>Present_Price</th>\n",
       "      <th>Driven_kms</th>\n",
       "      <th>Fuel_Type</th>\n",
       "      <th>Selling_type</th>\n",
       "      <th>Transmission</th>\n",
       "      <th>Owner</th>\n",
       "      <th>Year_Category</th>\n",
       "    </tr>\n",
       "  </thead>\n",
       "  <tbody>\n",
       "    <tr>\n",
       "      <th>0</th>\n",
       "      <td>ritz</td>\n",
       "      <td>2014</td>\n",
       "      <td>3.35</td>\n",
       "      <td>5.59</td>\n",
       "      <td>27000</td>\n",
       "      <td>Petrol</td>\n",
       "      <td>Dealer</td>\n",
       "      <td>Manual</td>\n",
       "      <td>0</td>\n",
       "      <td>after 2010</td>\n",
       "    </tr>\n",
       "    <tr>\n",
       "      <th>1</th>\n",
       "      <td>sx4</td>\n",
       "      <td>2013</td>\n",
       "      <td>4.75</td>\n",
       "      <td>9.54</td>\n",
       "      <td>43000</td>\n",
       "      <td>Diesel</td>\n",
       "      <td>Dealer</td>\n",
       "      <td>Manual</td>\n",
       "      <td>0</td>\n",
       "      <td>after 2010</td>\n",
       "    </tr>\n",
       "    <tr>\n",
       "      <th>2</th>\n",
       "      <td>ciaz</td>\n",
       "      <td>2017</td>\n",
       "      <td>7.25</td>\n",
       "      <td>9.85</td>\n",
       "      <td>6900</td>\n",
       "      <td>Petrol</td>\n",
       "      <td>Dealer</td>\n",
       "      <td>Manual</td>\n",
       "      <td>0</td>\n",
       "      <td>after 2010</td>\n",
       "    </tr>\n",
       "    <tr>\n",
       "      <th>3</th>\n",
       "      <td>wagon r</td>\n",
       "      <td>2011</td>\n",
       "      <td>2.85</td>\n",
       "      <td>4.15</td>\n",
       "      <td>5200</td>\n",
       "      <td>Petrol</td>\n",
       "      <td>Dealer</td>\n",
       "      <td>Manual</td>\n",
       "      <td>0</td>\n",
       "      <td>after 2010</td>\n",
       "    </tr>\n",
       "    <tr>\n",
       "      <th>4</th>\n",
       "      <td>swift</td>\n",
       "      <td>2014</td>\n",
       "      <td>4.60</td>\n",
       "      <td>6.87</td>\n",
       "      <td>42450</td>\n",
       "      <td>Diesel</td>\n",
       "      <td>Dealer</td>\n",
       "      <td>Manual</td>\n",
       "      <td>0</td>\n",
       "      <td>after 2010</td>\n",
       "    </tr>\n",
       "    <tr>\n",
       "      <th>...</th>\n",
       "      <td>...</td>\n",
       "      <td>...</td>\n",
       "      <td>...</td>\n",
       "      <td>...</td>\n",
       "      <td>...</td>\n",
       "      <td>...</td>\n",
       "      <td>...</td>\n",
       "      <td>...</td>\n",
       "      <td>...</td>\n",
       "      <td>...</td>\n",
       "    </tr>\n",
       "    <tr>\n",
       "      <th>296</th>\n",
       "      <td>city</td>\n",
       "      <td>2016</td>\n",
       "      <td>9.50</td>\n",
       "      <td>11.60</td>\n",
       "      <td>33988</td>\n",
       "      <td>Diesel</td>\n",
       "      <td>Dealer</td>\n",
       "      <td>Manual</td>\n",
       "      <td>0</td>\n",
       "      <td>after 2010</td>\n",
       "    </tr>\n",
       "    <tr>\n",
       "      <th>297</th>\n",
       "      <td>brio</td>\n",
       "      <td>2015</td>\n",
       "      <td>4.00</td>\n",
       "      <td>5.90</td>\n",
       "      <td>60000</td>\n",
       "      <td>Petrol</td>\n",
       "      <td>Dealer</td>\n",
       "      <td>Manual</td>\n",
       "      <td>0</td>\n",
       "      <td>after 2010</td>\n",
       "    </tr>\n",
       "    <tr>\n",
       "      <th>298</th>\n",
       "      <td>city</td>\n",
       "      <td>2009</td>\n",
       "      <td>3.35</td>\n",
       "      <td>11.00</td>\n",
       "      <td>87934</td>\n",
       "      <td>Petrol</td>\n",
       "      <td>Dealer</td>\n",
       "      <td>Manual</td>\n",
       "      <td>0</td>\n",
       "      <td>before 2010</td>\n",
       "    </tr>\n",
       "    <tr>\n",
       "      <th>299</th>\n",
       "      <td>city</td>\n",
       "      <td>2017</td>\n",
       "      <td>11.50</td>\n",
       "      <td>12.50</td>\n",
       "      <td>9000</td>\n",
       "      <td>Diesel</td>\n",
       "      <td>Dealer</td>\n",
       "      <td>Manual</td>\n",
       "      <td>0</td>\n",
       "      <td>after 2010</td>\n",
       "    </tr>\n",
       "    <tr>\n",
       "      <th>300</th>\n",
       "      <td>brio</td>\n",
       "      <td>2016</td>\n",
       "      <td>5.30</td>\n",
       "      <td>5.90</td>\n",
       "      <td>5464</td>\n",
       "      <td>Petrol</td>\n",
       "      <td>Dealer</td>\n",
       "      <td>Manual</td>\n",
       "      <td>0</td>\n",
       "      <td>after 2010</td>\n",
       "    </tr>\n",
       "  </tbody>\n",
       "</table>\n",
       "<p>301 rows × 10 columns</p>\n",
       "</div>"
      ],
      "text/plain": [
       "    Car_Name  Year  Selling_Price  Present_Price  Driven_kms Fuel_Type  \\\n",
       "0       ritz  2014           3.35           5.59       27000    Petrol   \n",
       "1        sx4  2013           4.75           9.54       43000    Diesel   \n",
       "2       ciaz  2017           7.25           9.85        6900    Petrol   \n",
       "3    wagon r  2011           2.85           4.15        5200    Petrol   \n",
       "4      swift  2014           4.60           6.87       42450    Diesel   \n",
       "..       ...   ...            ...            ...         ...       ...   \n",
       "296     city  2016           9.50          11.60       33988    Diesel   \n",
       "297     brio  2015           4.00           5.90       60000    Petrol   \n",
       "298     city  2009           3.35          11.00       87934    Petrol   \n",
       "299     city  2017          11.50          12.50        9000    Diesel   \n",
       "300     brio  2016           5.30           5.90        5464    Petrol   \n",
       "\n",
       "    Selling_type Transmission  Owner Year_Category  \n",
       "0         Dealer       Manual      0    after 2010  \n",
       "1         Dealer       Manual      0    after 2010  \n",
       "2         Dealer       Manual      0    after 2010  \n",
       "3         Dealer       Manual      0    after 2010  \n",
       "4         Dealer       Manual      0    after 2010  \n",
       "..           ...          ...    ...           ...  \n",
       "296       Dealer       Manual      0    after 2010  \n",
       "297       Dealer       Manual      0    after 2010  \n",
       "298       Dealer       Manual      0   before 2010  \n",
       "299       Dealer       Manual      0    after 2010  \n",
       "300       Dealer       Manual      0    after 2010  \n",
       "\n",
       "[301 rows x 10 columns]"
      ]
     },
     "execution_count": 414,
     "metadata": {},
     "output_type": "execute_result"
    }
   ],
   "source": [
    "df"
   ]
  },
  {
   "cell_type": "code",
   "execution_count": 415,
   "id": "d0272419",
   "metadata": {},
   "outputs": [],
   "source": [
    "df1=df.drop(['Year'], axis=1)"
   ]
  },
  {
   "cell_type": "code",
   "execution_count": 420,
   "id": "081b9006",
   "metadata": {},
   "outputs": [],
   "source": [
    "from sklearn.preprocessing import LabelEncoder\n",
    "le=LabelEncoder()\n",
    "\n",
    "df1['Car_Name'] = le.fit_transform(df1['Car_Name'])"
   ]
  },
  {
   "cell_type": "code",
   "execution_count": 421,
   "id": "69b3f431",
   "metadata": {},
   "outputs": [],
   "source": [
    "df2=pd.get_dummies(df1)"
   ]
  },
  {
   "cell_type": "code",
   "execution_count": 422,
   "id": "067ae8a3",
   "metadata": {},
   "outputs": [
    {
     "data": {
      "text/html": [
       "<div>\n",
       "<style scoped>\n",
       "    .dataframe tbody tr th:only-of-type {\n",
       "        vertical-align: middle;\n",
       "    }\n",
       "\n",
       "    .dataframe tbody tr th {\n",
       "        vertical-align: top;\n",
       "    }\n",
       "\n",
       "    .dataframe thead th {\n",
       "        text-align: right;\n",
       "    }\n",
       "</style>\n",
       "<table border=\"1\" class=\"dataframe\">\n",
       "  <thead>\n",
       "    <tr style=\"text-align: right;\">\n",
       "      <th></th>\n",
       "      <th>Car_Name</th>\n",
       "      <th>Selling_Price</th>\n",
       "      <th>Present_Price</th>\n",
       "      <th>Driven_kms</th>\n",
       "      <th>Owner</th>\n",
       "      <th>Fuel_Type_Diesel</th>\n",
       "      <th>Fuel_Type_Petrol</th>\n",
       "      <th>Selling_type_Dealer</th>\n",
       "      <th>Selling_type_Individual</th>\n",
       "      <th>Transmission_Automatic</th>\n",
       "      <th>Transmission_Manual</th>\n",
       "      <th>Year_Category_after 2010</th>\n",
       "      <th>Year_Category_before 2010</th>\n",
       "    </tr>\n",
       "  </thead>\n",
       "  <tbody>\n",
       "    <tr>\n",
       "      <th>0</th>\n",
       "      <td>90</td>\n",
       "      <td>3.35</td>\n",
       "      <td>5.59</td>\n",
       "      <td>27000</td>\n",
       "      <td>0</td>\n",
       "      <td>0</td>\n",
       "      <td>1</td>\n",
       "      <td>1</td>\n",
       "      <td>0</td>\n",
       "      <td>0</td>\n",
       "      <td>1</td>\n",
       "      <td>1</td>\n",
       "      <td>0</td>\n",
       "    </tr>\n",
       "    <tr>\n",
       "      <th>1</th>\n",
       "      <td>93</td>\n",
       "      <td>4.75</td>\n",
       "      <td>9.54</td>\n",
       "      <td>43000</td>\n",
       "      <td>0</td>\n",
       "      <td>1</td>\n",
       "      <td>0</td>\n",
       "      <td>1</td>\n",
       "      <td>0</td>\n",
       "      <td>0</td>\n",
       "      <td>1</td>\n",
       "      <td>1</td>\n",
       "      <td>0</td>\n",
       "    </tr>\n",
       "    <tr>\n",
       "      <th>2</th>\n",
       "      <td>68</td>\n",
       "      <td>7.25</td>\n",
       "      <td>9.85</td>\n",
       "      <td>6900</td>\n",
       "      <td>0</td>\n",
       "      <td>0</td>\n",
       "      <td>1</td>\n",
       "      <td>1</td>\n",
       "      <td>0</td>\n",
       "      <td>0</td>\n",
       "      <td>1</td>\n",
       "      <td>1</td>\n",
       "      <td>0</td>\n",
       "    </tr>\n",
       "    <tr>\n",
       "      <th>3</th>\n",
       "      <td>96</td>\n",
       "      <td>2.85</td>\n",
       "      <td>4.15</td>\n",
       "      <td>5200</td>\n",
       "      <td>0</td>\n",
       "      <td>0</td>\n",
       "      <td>1</td>\n",
       "      <td>1</td>\n",
       "      <td>0</td>\n",
       "      <td>0</td>\n",
       "      <td>1</td>\n",
       "      <td>1</td>\n",
       "      <td>0</td>\n",
       "    </tr>\n",
       "    <tr>\n",
       "      <th>4</th>\n",
       "      <td>92</td>\n",
       "      <td>4.60</td>\n",
       "      <td>6.87</td>\n",
       "      <td>42450</td>\n",
       "      <td>0</td>\n",
       "      <td>1</td>\n",
       "      <td>0</td>\n",
       "      <td>1</td>\n",
       "      <td>0</td>\n",
       "      <td>0</td>\n",
       "      <td>1</td>\n",
       "      <td>1</td>\n",
       "      <td>0</td>\n",
       "    </tr>\n",
       "    <tr>\n",
       "      <th>...</th>\n",
       "      <td>...</td>\n",
       "      <td>...</td>\n",
       "      <td>...</td>\n",
       "      <td>...</td>\n",
       "      <td>...</td>\n",
       "      <td>...</td>\n",
       "      <td>...</td>\n",
       "      <td>...</td>\n",
       "      <td>...</td>\n",
       "      <td>...</td>\n",
       "      <td>...</td>\n",
       "      <td>...</td>\n",
       "      <td>...</td>\n",
       "    </tr>\n",
       "    <tr>\n",
       "      <th>296</th>\n",
       "      <td>69</td>\n",
       "      <td>9.50</td>\n",
       "      <td>11.60</td>\n",
       "      <td>33988</td>\n",
       "      <td>0</td>\n",
       "      <td>1</td>\n",
       "      <td>0</td>\n",
       "      <td>1</td>\n",
       "      <td>0</td>\n",
       "      <td>0</td>\n",
       "      <td>1</td>\n",
       "      <td>1</td>\n",
       "      <td>0</td>\n",
       "    </tr>\n",
       "    <tr>\n",
       "      <th>297</th>\n",
       "      <td>66</td>\n",
       "      <td>4.00</td>\n",
       "      <td>5.90</td>\n",
       "      <td>60000</td>\n",
       "      <td>0</td>\n",
       "      <td>0</td>\n",
       "      <td>1</td>\n",
       "      <td>1</td>\n",
       "      <td>0</td>\n",
       "      <td>0</td>\n",
       "      <td>1</td>\n",
       "      <td>1</td>\n",
       "      <td>0</td>\n",
       "    </tr>\n",
       "    <tr>\n",
       "      <th>298</th>\n",
       "      <td>69</td>\n",
       "      <td>3.35</td>\n",
       "      <td>11.00</td>\n",
       "      <td>87934</td>\n",
       "      <td>0</td>\n",
       "      <td>0</td>\n",
       "      <td>1</td>\n",
       "      <td>1</td>\n",
       "      <td>0</td>\n",
       "      <td>0</td>\n",
       "      <td>1</td>\n",
       "      <td>0</td>\n",
       "      <td>1</td>\n",
       "    </tr>\n",
       "    <tr>\n",
       "      <th>299</th>\n",
       "      <td>69</td>\n",
       "      <td>11.50</td>\n",
       "      <td>12.50</td>\n",
       "      <td>9000</td>\n",
       "      <td>0</td>\n",
       "      <td>1</td>\n",
       "      <td>0</td>\n",
       "      <td>1</td>\n",
       "      <td>0</td>\n",
       "      <td>0</td>\n",
       "      <td>1</td>\n",
       "      <td>1</td>\n",
       "      <td>0</td>\n",
       "    </tr>\n",
       "    <tr>\n",
       "      <th>300</th>\n",
       "      <td>66</td>\n",
       "      <td>5.30</td>\n",
       "      <td>5.90</td>\n",
       "      <td>5464</td>\n",
       "      <td>0</td>\n",
       "      <td>0</td>\n",
       "      <td>1</td>\n",
       "      <td>1</td>\n",
       "      <td>0</td>\n",
       "      <td>0</td>\n",
       "      <td>1</td>\n",
       "      <td>1</td>\n",
       "      <td>0</td>\n",
       "    </tr>\n",
       "  </tbody>\n",
       "</table>\n",
       "<p>301 rows × 13 columns</p>\n",
       "</div>"
      ],
      "text/plain": [
       "     Car_Name  Selling_Price  Present_Price  Driven_kms  Owner  \\\n",
       "0          90           3.35           5.59       27000      0   \n",
       "1          93           4.75           9.54       43000      0   \n",
       "2          68           7.25           9.85        6900      0   \n",
       "3          96           2.85           4.15        5200      0   \n",
       "4          92           4.60           6.87       42450      0   \n",
       "..        ...            ...            ...         ...    ...   \n",
       "296        69           9.50          11.60       33988      0   \n",
       "297        66           4.00           5.90       60000      0   \n",
       "298        69           3.35          11.00       87934      0   \n",
       "299        69          11.50          12.50        9000      0   \n",
       "300        66           5.30           5.90        5464      0   \n",
       "\n",
       "     Fuel_Type_Diesel  Fuel_Type_Petrol  Selling_type_Dealer  \\\n",
       "0                   0                 1                    1   \n",
       "1                   1                 0                    1   \n",
       "2                   0                 1                    1   \n",
       "3                   0                 1                    1   \n",
       "4                   1                 0                    1   \n",
       "..                ...               ...                  ...   \n",
       "296                 1                 0                    1   \n",
       "297                 0                 1                    1   \n",
       "298                 0                 1                    1   \n",
       "299                 1                 0                    1   \n",
       "300                 0                 1                    1   \n",
       "\n",
       "     Selling_type_Individual  Transmission_Automatic  Transmission_Manual  \\\n",
       "0                          0                       0                    1   \n",
       "1                          0                       0                    1   \n",
       "2                          0                       0                    1   \n",
       "3                          0                       0                    1   \n",
       "4                          0                       0                    1   \n",
       "..                       ...                     ...                  ...   \n",
       "296                        0                       0                    1   \n",
       "297                        0                       0                    1   \n",
       "298                        0                       0                    1   \n",
       "299                        0                       0                    1   \n",
       "300                        0                       0                    1   \n",
       "\n",
       "     Year_Category_after 2010  Year_Category_before 2010  \n",
       "0                           1                          0  \n",
       "1                           1                          0  \n",
       "2                           1                          0  \n",
       "3                           1                          0  \n",
       "4                           1                          0  \n",
       "..                        ...                        ...  \n",
       "296                         1                          0  \n",
       "297                         1                          0  \n",
       "298                         0                          1  \n",
       "299                         1                          0  \n",
       "300                         1                          0  \n",
       "\n",
       "[301 rows x 13 columns]"
      ]
     },
     "execution_count": 422,
     "metadata": {},
     "output_type": "execute_result"
    }
   ],
   "source": [
    "df2"
   ]
  },
  {
   "cell_type": "code",
   "execution_count": 423,
   "id": "f9cc4f8c",
   "metadata": {},
   "outputs": [],
   "source": [
    "X=df2.drop('Selling_Price', axis=1)\n",
    "y=df2['Selling_Price']"
   ]
  },
  {
   "cell_type": "code",
   "execution_count": null,
   "id": "66cc2f87",
   "metadata": {},
   "outputs": [],
   "source": []
  },
  {
   "cell_type": "code",
   "execution_count": 424,
   "id": "ce788f55",
   "metadata": {},
   "outputs": [],
   "source": [
    "x_train,x_test,y_train,y_test=train_test_split(X,y,test_size=0.20,random_state=36)"
   ]
  },
  {
   "cell_type": "code",
   "execution_count": 425,
   "id": "c5a00302",
   "metadata": {},
   "outputs": [],
   "source": [
    "from sklearn.preprocessing import MinMaxScaler\n",
    "mm = MinMaxScaler()\n",
    "cl= ['Present_Price','Driven_kms']\n",
    "x_train[cl] = mm.fit_transform(x_train[cl])\n",
    "x_test[cl]=mm.transform(x_test[cl])"
   ]
  },
  {
   "cell_type": "code",
   "execution_count": null,
   "id": "916268fd",
   "metadata": {},
   "outputs": [],
   "source": []
  },
  {
   "cell_type": "code",
   "execution_count": 426,
   "id": "03668b19",
   "metadata": {},
   "outputs": [
    {
     "name": "stdout",
     "output_type": "stream",
     "text": [
      "fitting the model .... LR\n",
      "fitting the model .... knnR\n",
      "fitting the model .... decisiontreeR\n",
      "fitting the model .... randomforestR\n",
      "fitting the model .... gradientboostR\n",
      "fitting the model .... xgboostR\n"
     ]
    }
   ],
   "source": [
    "Regressors={'LR':LinearRegression(),\n",
    "    'knnR':KNeighborsRegressor(),\n",
    "              'decisiontreeR':DecisionTreeRegressor(),\n",
    "              'randomforestR':RandomForestRegressor(),\n",
    "              'gradientboostR':GradientBoostingRegressor(),\n",
    "             \"xgboostR\":XGBRegressor()}\n",
    "\n",
    "model_report=pd.DataFrame(columns=['model_name','r2 train','mse train','mse test']) #,#'roc'\n",
    "\n",
    "for Regressor, Regressor_name in list(zip(Regressors.values(), Regressors.keys())):\n",
    "    Regressor.fit(x_train,y_train)\n",
    "    y_pred_train=Regressor.predict(x_train)\n",
    "    y_pred_test=Regressor.predict(x_test)\n",
    "    print('fitting the model ....',Regressor_name)\n",
    "    t=pd.Series({\n",
    "        'model_name':Regressor_name, \n",
    "        'r2 train':r2_score(y_train, y_pred_train),\n",
    "        'mse train':mean_squared_error(y_train, y_pred_train),\n",
    "        'mse test':mean_squared_error(y_test, y_pred_test)\n",
    "    })\n",
    "    model_report=model_report.append(t,ignore_index=True)\n",
    "    "
   ]
  },
  {
   "cell_type": "code",
   "execution_count": 428,
   "id": "c1dd22eb",
   "metadata": {},
   "outputs": [
    {
     "data": {
      "text/html": [
       "<div>\n",
       "<style scoped>\n",
       "    .dataframe tbody tr th:only-of-type {\n",
       "        vertical-align: middle;\n",
       "    }\n",
       "\n",
       "    .dataframe tbody tr th {\n",
       "        vertical-align: top;\n",
       "    }\n",
       "\n",
       "    .dataframe thead th {\n",
       "        text-align: right;\n",
       "    }\n",
       "</style>\n",
       "<table border=\"1\" class=\"dataframe\">\n",
       "  <thead>\n",
       "    <tr style=\"text-align: right;\">\n",
       "      <th></th>\n",
       "      <th>model_name</th>\n",
       "      <th>r2 train</th>\n",
       "      <th>mse train</th>\n",
       "      <th>mse test</th>\n",
       "    </tr>\n",
       "  </thead>\n",
       "  <tbody>\n",
       "    <tr>\n",
       "      <th>0</th>\n",
       "      <td>LR</td>\n",
       "      <td>0.851486</td>\n",
       "      <td>4.049183</td>\n",
       "      <td>2.865465</td>\n",
       "    </tr>\n",
       "    <tr>\n",
       "      <th>1</th>\n",
       "      <td>knnR</td>\n",
       "      <td>0.812473</td>\n",
       "      <td>5.112876</td>\n",
       "      <td>4.955840</td>\n",
       "    </tr>\n",
       "    <tr>\n",
       "      <th>2</th>\n",
       "      <td>decisiontreeR</td>\n",
       "      <td>0.999839</td>\n",
       "      <td>0.004385</td>\n",
       "      <td>1.167623</td>\n",
       "    </tr>\n",
       "    <tr>\n",
       "      <th>3</th>\n",
       "      <td>randomforestR</td>\n",
       "      <td>0.982345</td>\n",
       "      <td>0.481353</td>\n",
       "      <td>1.400709</td>\n",
       "    </tr>\n",
       "    <tr>\n",
       "      <th>4</th>\n",
       "      <td>gradientboostR</td>\n",
       "      <td>0.992694</td>\n",
       "      <td>0.199203</td>\n",
       "      <td>1.242717</td>\n",
       "    </tr>\n",
       "    <tr>\n",
       "      <th>5</th>\n",
       "      <td>xgboostR</td>\n",
       "      <td>0.999830</td>\n",
       "      <td>0.004628</td>\n",
       "      <td>1.206743</td>\n",
       "    </tr>\n",
       "  </tbody>\n",
       "</table>\n",
       "</div>"
      ],
      "text/plain": [
       "       model_name  r2 train  mse train  mse test\n",
       "0              LR  0.851486   4.049183  2.865465\n",
       "1            knnR  0.812473   5.112876  4.955840\n",
       "2   decisiontreeR  0.999839   0.004385  1.167623\n",
       "3   randomforestR  0.982345   0.481353  1.400709\n",
       "4  gradientboostR  0.992694   0.199203  1.242717\n",
       "5        xgboostR  0.999830   0.004628  1.206743"
      ]
     },
     "execution_count": 428,
     "metadata": {},
     "output_type": "execute_result"
    }
   ],
   "source": [
    "model_report"
   ]
  },
  {
   "cell_type": "code",
   "execution_count": 429,
   "id": "1025d36d",
   "metadata": {},
   "outputs": [
    {
     "name": "stderr",
     "output_type": "stream",
     "text": [
      "[Parallel(n_jobs=1)]: Using backend SequentialBackend with 1 concurrent workers.\n",
      "[Parallel(n_jobs=1)]: Done   1 out of   1 | elapsed:    0.5s remaining:    0.0s\n",
      "[Parallel(n_jobs=1)]: Done  12 out of  12 | elapsed:    7.3s finished\n",
      "\n",
      "[2023-12-03 14:31:24] Features: 11/1 -- score: 0.8716164225227867[Parallel(n_jobs=1)]: Using backend SequentialBackend with 1 concurrent workers.\n",
      "[Parallel(n_jobs=1)]: Done   1 out of   1 | elapsed:    0.5s remaining:    0.0s\n",
      "[Parallel(n_jobs=1)]: Done  11 out of  11 | elapsed:    6.4s finished\n",
      "\n",
      "[2023-12-03 14:31:31] Features: 10/1 -- score: 0.8718848542060733[Parallel(n_jobs=1)]: Using backend SequentialBackend with 1 concurrent workers.\n",
      "[Parallel(n_jobs=1)]: Done   1 out of   1 | elapsed:    0.5s remaining:    0.0s\n",
      "[Parallel(n_jobs=1)]: Done  10 out of  10 | elapsed:    5.8s finished\n",
      "\n",
      "[2023-12-03 14:31:37] Features: 9/1 -- score: 0.8722983342163578[Parallel(n_jobs=1)]: Using backend SequentialBackend with 1 concurrent workers.\n",
      "[Parallel(n_jobs=1)]: Done   1 out of   1 | elapsed:    0.5s remaining:    0.0s\n",
      "[Parallel(n_jobs=1)]: Done   9 out of   9 | elapsed:    5.1s finished\n",
      "\n",
      "[2023-12-03 14:31:42] Features: 8/1 -- score: 0.8720955759791869[Parallel(n_jobs=1)]: Using backend SequentialBackend with 1 concurrent workers.\n",
      "[Parallel(n_jobs=1)]: Done   1 out of   1 | elapsed:    0.5s remaining:    0.0s\n",
      "[Parallel(n_jobs=1)]: Done   8 out of   8 | elapsed:    4.5s finished\n",
      "\n",
      "[2023-12-03 14:31:46] Features: 7/1 -- score: 0.871660195851885[Parallel(n_jobs=1)]: Using backend SequentialBackend with 1 concurrent workers.\n",
      "[Parallel(n_jobs=1)]: Done   1 out of   1 | elapsed:    0.5s remaining:    0.0s\n",
      "[Parallel(n_jobs=1)]: Done   7 out of   7 | elapsed:    3.9s finished\n",
      "\n",
      "[2023-12-03 14:31:50] Features: 6/1 -- score: 0.8729458490190607[Parallel(n_jobs=1)]: Using backend SequentialBackend with 1 concurrent workers.\n",
      "[Parallel(n_jobs=1)]: Done   1 out of   1 | elapsed:    0.5s remaining:    0.0s\n",
      "[Parallel(n_jobs=1)]: Done   6 out of   6 | elapsed:    3.3s finished\n",
      "\n",
      "[2023-12-03 14:31:54] Features: 5/1 -- score: 0.8729480087614702[Parallel(n_jobs=1)]: Using backend SequentialBackend with 1 concurrent workers.\n",
      "[Parallel(n_jobs=1)]: Done   1 out of   1 | elapsed:    0.5s remaining:    0.0s\n",
      "[Parallel(n_jobs=1)]: Done   5 out of   5 | elapsed:    2.6s finished\n",
      "\n",
      "[2023-12-03 14:31:56] Features: 4/1 -- score: 0.8735974067148972[Parallel(n_jobs=1)]: Using backend SequentialBackend with 1 concurrent workers.\n",
      "[Parallel(n_jobs=1)]: Done   1 out of   1 | elapsed:    0.4s remaining:    0.0s\n",
      "[Parallel(n_jobs=1)]: Done   4 out of   4 | elapsed:    1.8s finished\n",
      "\n",
      "[2023-12-03 14:31:58] Features: 3/1 -- score: 0.8695620570732157[Parallel(n_jobs=1)]: Using backend SequentialBackend with 1 concurrent workers.\n",
      "[Parallel(n_jobs=1)]: Done   1 out of   1 | elapsed:    0.4s remaining:    0.0s\n",
      "[Parallel(n_jobs=1)]: Done   3 out of   3 | elapsed:    1.3s finished\n",
      "\n",
      "[2023-12-03 14:32:00] Features: 2/1 -- score: 0.8419749012247519[Parallel(n_jobs=1)]: Using backend SequentialBackend with 1 concurrent workers.\n",
      "[Parallel(n_jobs=1)]: Done   1 out of   1 | elapsed:    0.3s remaining:    0.0s\n",
      "[Parallel(n_jobs=1)]: Done   2 out of   2 | elapsed:    0.7s finished\n",
      "\n",
      "[2023-12-03 14:32:01] Features: 1/1 -- score: 0.7404474835203556"
     ]
    }
   ],
   "source": [
    "gbr=GradientBoostingRegressor()\n",
    "\n",
    "lr_backward = sfs(estimator=gbr, k_features ='best', forward=False,\n",
    "                     verbose=2, scoring='r2')\n",
    "\n",
    "\n",
    "sfs_backward = lr_backward.fit(x_train, y_train)"
   ]
  },
  {
   "cell_type": "code",
   "execution_count": 430,
   "id": "03b6d457",
   "metadata": {},
   "outputs": [
    {
     "data": {
      "text/plain": [
       "('Present_Price',\n",
       " 'Driven_kms',\n",
       " 'Fuel_Type_Petrol',\n",
       " 'Year_Category_before 2010')"
      ]
     },
     "execution_count": 430,
     "metadata": {},
     "output_type": "execute_result"
    }
   ],
   "source": [
    "sfs_backward.k_feature_names_ "
   ]
  },
  {
   "cell_type": "code",
   "execution_count": 431,
   "id": "ac6fa685",
   "metadata": {},
   "outputs": [],
   "source": [
    "X=df2.drop('Selling_Price', axis=1)\n",
    "y=df2['Selling_Price']"
   ]
  },
  {
   "cell_type": "code",
   "execution_count": 432,
   "id": "2c73552e",
   "metadata": {},
   "outputs": [],
   "source": [
    "from sklearn.model_selection import train_test_split\n",
    "\n",
    "X=X.loc[:,['Present_Price',\n",
    " 'Driven_kms',\n",
    " 'Fuel_Type_Petrol',\n",
    " 'Year_Category_before 2010']]\n",
    "y=df['Selling_Price']"
   ]
  },
  {
   "cell_type": "code",
   "execution_count": 433,
   "id": "fd7f1616",
   "metadata": {},
   "outputs": [],
   "source": [
    "x_train,x_test,y_train,y_test=train_test_split(X,y,test_size=0.20,random_state=36)"
   ]
  },
  {
   "cell_type": "code",
   "execution_count": 434,
   "id": "8061cbeb",
   "metadata": {},
   "outputs": [],
   "source": [
    "from sklearn.preprocessing import MinMaxScaler\n",
    "mm = MinMaxScaler()\n",
    "cl= ['Present_Price','Driven_kms']\n",
    "x_train[cl] = mm.fit_transform(x_train[cl])\n",
    "x_test[cl]=mm.transform(x_test[cl])"
   ]
  },
  {
   "cell_type": "code",
   "execution_count": 435,
   "id": "544a7bf5",
   "metadata": {},
   "outputs": [
    {
     "name": "stdout",
     "output_type": "stream",
     "text": [
      "fitting the model .... LR\n",
      "fitting the model .... knnR\n",
      "fitting the model .... decisiontreeR\n",
      "fitting the model .... randomforestR\n",
      "fitting the model .... gradientboostR\n",
      "fitting the model .... xgboostR\n"
     ]
    }
   ],
   "source": [
    "Regressors={'LR':LinearRegression(),\n",
    "    'knnR':KNeighborsRegressor(),\n",
    "              'decisiontreeR':DecisionTreeRegressor(),\n",
    "              'randomforestR':RandomForestRegressor(),\n",
    "              'gradientboostR':GradientBoostingRegressor(),\n",
    "             \"xgboostR\":XGBRegressor()}\n",
    "\n",
    "model_report=pd.DataFrame(columns=['model_name','r2 train','mse train','mse test']) #,#'roc'\n",
    "\n",
    "for Regressor, Regressor_name in list(zip(Regressors.values(), Regressors.keys())):\n",
    "    Regressor.fit(x_train,y_train)\n",
    "    y_pred_train=Regressor.predict(x_train)\n",
    "    y_pred_test=Regressor.predict(x_test)\n",
    "    print('fitting the model ....',Regressor_name)\n",
    "    t=pd.Series({\n",
    "        'model_name':Regressor_name, \n",
    "        'r2 train':r2_score(y_train, y_pred_train),\n",
    "        'mse train':mean_squared_error(y_train, y_pred_train),\n",
    "        'mse test':mean_squared_error(y_test, y_pred_test)\n",
    "    })\n",
    "    model_report=model_report.append(t,ignore_index=True)\n",
    "    "
   ]
  },
  {
   "cell_type": "code",
   "execution_count": 436,
   "id": "78f9f0c6",
   "metadata": {},
   "outputs": [
    {
     "data": {
      "text/html": [
       "<div>\n",
       "<style scoped>\n",
       "    .dataframe tbody tr th:only-of-type {\n",
       "        vertical-align: middle;\n",
       "    }\n",
       "\n",
       "    .dataframe tbody tr th {\n",
       "        vertical-align: top;\n",
       "    }\n",
       "\n",
       "    .dataframe thead th {\n",
       "        text-align: right;\n",
       "    }\n",
       "</style>\n",
       "<table border=\"1\" class=\"dataframe\">\n",
       "  <thead>\n",
       "    <tr style=\"text-align: right;\">\n",
       "      <th></th>\n",
       "      <th>model_name</th>\n",
       "      <th>r2 train</th>\n",
       "      <th>mse train</th>\n",
       "      <th>mse test</th>\n",
       "    </tr>\n",
       "  </thead>\n",
       "  <tbody>\n",
       "    <tr>\n",
       "      <th>0</th>\n",
       "      <td>LR</td>\n",
       "      <td>0.826618</td>\n",
       "      <td>4.727214</td>\n",
       "      <td>2.727477</td>\n",
       "    </tr>\n",
       "    <tr>\n",
       "      <th>1</th>\n",
       "      <td>knnR</td>\n",
       "      <td>0.933988</td>\n",
       "      <td>1.799807</td>\n",
       "      <td>1.721606</td>\n",
       "    </tr>\n",
       "    <tr>\n",
       "      <th>2</th>\n",
       "      <td>decisiontreeR</td>\n",
       "      <td>0.999839</td>\n",
       "      <td>0.004385</td>\n",
       "      <td>3.036569</td>\n",
       "    </tr>\n",
       "    <tr>\n",
       "      <th>3</th>\n",
       "      <td>randomforestR</td>\n",
       "      <td>0.983023</td>\n",
       "      <td>0.462885</td>\n",
       "      <td>1.578370</td>\n",
       "    </tr>\n",
       "    <tr>\n",
       "      <th>4</th>\n",
       "      <td>gradientboostR</td>\n",
       "      <td>0.991566</td>\n",
       "      <td>0.229945</td>\n",
       "      <td>1.304185</td>\n",
       "    </tr>\n",
       "    <tr>\n",
       "      <th>5</th>\n",
       "      <td>xgboostR</td>\n",
       "      <td>0.999817</td>\n",
       "      <td>0.004982</td>\n",
       "      <td>1.366156</td>\n",
       "    </tr>\n",
       "  </tbody>\n",
       "</table>\n",
       "</div>"
      ],
      "text/plain": [
       "       model_name  r2 train  mse train  mse test\n",
       "0              LR  0.826618   4.727214  2.727477\n",
       "1            knnR  0.933988   1.799807  1.721606\n",
       "2   decisiontreeR  0.999839   0.004385  3.036569\n",
       "3   randomforestR  0.983023   0.462885  1.578370\n",
       "4  gradientboostR  0.991566   0.229945  1.304185\n",
       "5        xgboostR  0.999817   0.004982  1.366156"
      ]
     },
     "execution_count": 436,
     "metadata": {},
     "output_type": "execute_result"
    }
   ],
   "source": [
    " model_report"
   ]
  },
  {
   "cell_type": "code",
   "execution_count": 439,
   "id": "24cfed65",
   "metadata": {},
   "outputs": [
    {
     "data": {
      "image/png": "[encoded data removed]",
      "text/plain": [
       "<Figure size 640x480 with 1 Axes>"
      ]
     },
     "metadata": {},
     "output_type": "display_data"
    }
   ],
   "source": [
    "# Calculate residuals\n",
    "residuals = y_test - y_pred_test\n",
    "\n",
    "# Plot residuals\n",
    "plt.scatter(y_pred_test, residuals)\n",
    "plt.axhline(y=0, color='r', linestyle='--')\n",
    "plt.xlabel('Predicted Values')\n",
    "plt.ylabel('Residuals')\n",
    "plt.title('Residual Plot')\n",
    "plt.show()"
   ]
  },
  {
   "cell_type": "code",
   "execution_count": null,
   "id": "0fca5c55",
   "metadata": {},
   "outputs": [],
   "source": []
  },
  {
   "cell_type": "markdown",
   "id": "b24ebf7d",
   "metadata": {},
   "source": [
    "## Conclusion "
   ]
  },
  {
   "cell_type": "markdown",
   "id": "fded8b8b",
   "metadata": {},
   "source": [
    "In any of the above approaches, most of the models performs better with train a=but not that much with test. "
   ]
  },
  {
   "cell_type": "code",
   "execution_count": null,
   "id": "aab80497",
   "metadata": {},
   "outputs": [],
   "source": []
  },
  {
   "cell_type": "code",
   "execution_count": null,
   "id": "45f1deff",
   "metadata": {},
   "outputs": [],
   "source": []
  },
  {
   "cell_type": "code",
   "execution_count": null,
   "id": "731cfc2f",
   "metadata": {},
   "outputs": [],
   "source": []
  }
 ],
 "metadata": {
  "kernelspec": {
   "display_name": "Python 3 (ipykernel)",
   "language": "python",
   "name": "python3"
  },
  "language_info": {
   "codemirror_mode": {
    "name": "ipython",
    "version": 3
   },
   "file_extension": ".py",
   "mimetype": "text/x-python",
   "name": "python",
   "nbconvert_exporter": "python",
   "pygments_lexer": "ipython3",
   "version": "3.11.5"
  }
 },
 "nbformat": 4,
 "nbformat_minor": 5
}
